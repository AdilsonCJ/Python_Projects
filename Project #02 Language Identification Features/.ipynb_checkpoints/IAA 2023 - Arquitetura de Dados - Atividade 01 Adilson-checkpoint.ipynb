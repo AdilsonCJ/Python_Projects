{
 "cells": [
  {
   "cell_type": "markdown",
   "metadata": {
    "id": "LPNR0nNzXkji"
   },
   "source": [
    "**Nome:** Adilson Chrestani Junior\n",
    "\n",
    "**Disciplina:** Arquitetura de Dados\n",
    "\n",
    "**Turma:** 2023-1\n",
    "\n",
    "**Trabalho 01 - Otimização do modelo de Detecção de Idioma a partir de Reconhecimento de Padrões** \n",
    "\n",
    "- Meta: 80% (ou mais) de acurácia no treino\n",
    "- Modelo Inicial (random_state = 42 e apenas tamanhoMedioFrases): 53.62% de acurária"
   ]
  },
  {
   "cell_type": "markdown",
   "metadata": {},
   "source": [
    "<h1>Identificador automático de idioma</h1>\n",
    "<p><b>Problema</b>: Dados um texto de entrada, é possível identificar em qual língua o texto está escrito?</p>\n",
    "<p>\n",
    "Entrada: \"texto qualquer\" <br />\n",
    "Saída: português ou inglês ou francês ou italiano ou...\n",
    "</p>\n",
    "<p>&nbsp;</p>\n",
    "\n",
    "<h2>O processo de Reconhecimento de Padrões</h2>\n",
    "<p>O objetivo desse trabalho é demonstrar o processo de \"construção de atributos\" e como ele é fundamental para o <b>Reconhecimento de Padrões (RP)</b>.</p>\n",
    "\n",
    "<p>Primeiro um conjunto de \"amostras\" previamente conhecido (classificado)</p>"
   ]
  },
  {
   "cell_type": "code",
   "execution_count": 1,
   "metadata": {},
   "outputs": [],
   "source": [
    "import pandas as pd\n",
    "import numpy as np\n",
    "import seaborn as sns\n",
    "import random\n",
    "import re\n",
    "import unicodedata\n",
    "from sklearn import svm\n",
    "from sklearn.model_selection import train_test_split\n",
    "from sklearn.metrics import confusion_matrix\n",
    "from sklearn.metrics import classification_report\n",
    "from sklearn.metrics import accuracy_score"
   ]
  },
  {
   "cell_type": "code",
   "execution_count": 2,
   "metadata": {
    "id": "8OTGqEfJTZrY"
   },
   "outputs": [],
   "source": [
    "# Amostras de texto em diferentes línguas\n",
    "\n",
    "ingles = [\n",
    "\"Hello, how are you?\",\n",
    "\"I love to read books.\",\n",
    "\"The weather is nice today.\",\n",
    "\"Where is the nearest restaurant?\",\n",
    "\"What time is it?\",\n",
    "\"I enjoy playing soccer.\",\n",
    "\"Can you help me with this?\",\n",
    "\"I'm going to the movies tonight.\",\n",
    "\"This is a beautiful place.\",\n",
    "\"I like listening to music.\",\n",
    "\"Do you speak English?\",\n",
    "\"What is your favorite color?\",\n",
    "\"I'm learning to play the guitar.\",\n",
    "\"Have a great day!\",\n",
    "\"I need to buy some groceries.\",\n",
    "\"Let's go for a walk.\",\n",
    "\"How was your weekend?\",\n",
    "\"I'm excited for the concert.\",\n",
    "\"Could you pass me the salt, please?\",\n",
    "\"I have a meeting at 2 PM.\",\n",
    "\"I'm planning a vacation.\",\n",
    "\"She sings beautifully.\",\n",
    "\"The cat is sleeping.\",\n",
    "\"I want to learn French.\",\n",
    "\"I enjoy going to the beach.\",\n",
    "\"Where can I find a taxi?\",\n",
    "\"I'm sorry for the inconvenience.\",\n",
    "\"I'm studying for my exams.\",\n",
    "\"I like to cook dinner at home.\",\n",
    "\"Do you have any recommendations for restaurants?\",\n",
    "]\n",
    "\n",
    "espanhol = [\n",
    "\"Hola, ¿cómo estás?\",\n",
    "\"Me encanta leer libros.\",\n",
    "\"El clima está agradable hoy.\",\n",
    "\"¿Dónde está el restaurante más cercano?\",\n",
    "\"¿Qué hora es?\",\n",
    "\"Voy al parque todos los días.\",\n",
    "\"¿Puedes ayudarme con esto?\",\n",
    "\"Me gustaría ir de vacaciones.\",\n",
    "\"Este es mi libro favorito.\",\n",
    "\"Me gusta bailar salsa.\",\n",
    "\"¿Hablas español?\",\n",
    "\"¿Cuál es tu comida favorita?\",\n",
    "\"Estoy aprendiendo a tocar el piano.\",\n",
    "\"¡Que tengas un buen día!\",\n",
    "\"Necesito comprar algunas frutas.\",\n",
    "\"Vamos a dar un paseo.\",\n",
    "\"¿Cómo estuvo tu fin de semana?\",\n",
    "\"Estoy emocionado por el concierto.\",\n",
    "\"¿Me pasas la sal, por favor?\",\n",
    "\"Tengo una reunión a las 2 PM.\",\n",
    "\"Estoy planeando unas vacaciones.\",\n",
    "\"Ella canta hermosamente.\",\n",
    "\"El perro está jugando.\",\n",
    "\"Quiero aprender italiano.\",\n",
    "\"Disfruto ir a la playa.\",\n",
    "\"¿Dónde puedo encontrar un taxi?\",\n",
    "\"Lamento las molestias.\",\n",
    "\"Estoy estudiando para mis exámenes.\",\n",
    "\"Me gusta cocinar la cena en casa.\",\n",
    "\"¿Tienes alguna recomendación de restaurantes?\",\n",
    "]\n",
    "\n",
    "portugues = [\n",
    "\"Estou indo para o trabalho agora.\",\n",
    "\"Adoro passar tempo com minha família.\",\n",
    "\"Preciso comprar leite e pão.\",\n",
    "\"Vamos ao cinema no sábado.\",\n",
    "\"Gosto de praticar esportes ao ar livre.\",\n",
    "\"O trânsito está terrível hoje.\",\n",
    "\"A comida estava deliciosa!\",\n",
    "\"Você já visitou o Rio de Janeiro?\",\n",
    "\"Tenho uma reunião importante amanhã.\",\n",
    "\"A festa começa às 20h.\",\n",
    "\"Estou cansado depois de um longo dia de trabalho.\",\n",
    "\"Vamos fazer um churrasco no final de semana.\",\n",
    "\"O livro que estou lendo é muito interessante.\",\n",
    "\"Estou aprendendo a cozinhar pratos novos.\",\n",
    "\"Preciso fazer exercícios físicos regularmente.\",\n",
    "\"Vou viajar para o exterior nas férias.\",\n",
    "\"Você gosta de dançar?\",\n",
    "\"Hoje é meu aniversário!\",\n",
    "\"Gosto de ouvir música clássica.\",\n",
    "\"Estou estudando para o vestibular.\",\n",
    "\"Meu time de futebol favorito ganhou o jogo.\",\n",
    "\"Quero aprender a tocar violão.\",\n",
    "\"Vamos fazer uma viagem de carro.\",\n",
    "\"O parque fica cheio aos finais de semana.\",\n",
    "\"O filme que assisti ontem foi ótimo.\",\n",
    "\"Preciso resolver esse problema o mais rápido possível.\",\n",
    "\"Adoro explorar novos lugares.\",\n",
    "\"Vou visitar meus avós no domingo.\",\n",
    "\"Estou ansioso para as férias de verão.\",\n",
    "\"Gosto de fazer caminhadas na natureza.\",\n",
    "\"O restaurante tem uma vista incrível.\",\n",
    "\"Vamos sair para jantar no sábado.\",\n",
    "]"
   ]
  },
  {
   "cell_type": "markdown",
   "metadata": {
    "id": "iY9ZVUEkjkw7"
   },
   "source": [
    "A \"amostras\" de texto precisa ser \"transformada\" em <b>padrões</b>\n",
    "\n",
    "<p>Um padrão é um conjunto de características, geralmente representado por um vetor e um conjunto de padrões no formato de tabela. Onde cada linha é um padrão e as colunas as características e, geralmente, na última coluna a <b>classe</b></p>"
   ]
  },
  {
   "cell_type": "code",
   "execution_count": 3,
   "metadata": {
    "colab": {
     "base_uri": "https://localhost:8080/"
    },
    "id": "X9aG5skikHSj",
    "outputId": "9e8f6493-1f90-4ee7-85f8-bbb8eb3ac72f"
   },
   "outputs": [
    {
     "name": "stdout",
     "output_type": "stream",
     "text": [
      "CPU times: total: 0 ns\n",
      "Wall time: 0 ns\n"
     ]
    }
   ],
   "source": [
    "%%time\n",
    "\n",
    "pre_padroes = []\n",
    "\n",
    "for frase in ingles:\n",
    "    pre_padroes.append( [frase, 'inglês'])\n",
    "\n",
    "for frase in espanhol:\n",
    "    pre_padroes.append( [frase, 'espanhol'])\n",
    "\n",
    "for frase in portugues:\n",
    "    pre_padroes.append( [frase, 'português'])"
   ]
  },
  {
   "cell_type": "markdown",
   "metadata": {
    "id": "A0owXHcxlP_C"
   },
   "source": [
    "<h1>Construção dos atributos</h1>\n",
    "<p>Esse é o coração desse trabalho e que deverá ser desenvolvido por vocês. Pensem em como podemos \"medir\" cadas frase/sentença e extrair características que melhorem o resultado do processo de identificação.<p>\n",
    "<p>Após a criação de cada novo atributo, execute as etapas seguintes e registre as métricas da matriz de confusão. Principalmente acurácia e a precisão.</p>"
   ]
  },
  {
   "cell_type": "code",
   "execution_count": 304,
   "metadata": {
    "id": "nlBpZ6yvlygB"
   },
   "outputs": [],
   "source": [
    "# a entrada é o vetor pre_padroes e a saída desse passo deverá ser \"padrões\"\n",
    "\n",
    "def tamanhoMedioFrases(texto):\n",
    "    \n",
    "    palavras = re.split(\"\\s\",texto)\n",
    "    tamanhos = [len(s) for s in palavras if len(s)>0]\n",
    "    soma = 0\n",
    "    \n",
    "    for t in tamanhos:\n",
    "        soma=soma+t\n",
    "        \n",
    "    return soma / len(tamanhos)\n",
    "\n",
    "def quantidadeMediaVogaisFrase(texto):\n",
    "    \n",
    "    count = 0\n",
    "    vogais = [\"a\", \"e\", \"i\", \"o\", \"u\"]\n",
    "    tamanhos = [len(s) for s in palavras if len(s)>0]\n",
    "\n",
    "    texto = unicodedata.normalize('NFD', texto)\n",
    "    texto = texto.lower()\n",
    "    \n",
    "    for i in range(len(texto)):\n",
    "        if texto[i] in vogais:\n",
    "            count += 1\n",
    "            \n",
    "    return count/len(tamanhos)\n",
    "\n",
    "def quantidadeWeY(texto):\n",
    "    \n",
    "    count = 0\n",
    "    letras = [\"w\", \"y\"]\n",
    "\n",
    "    texto = unicodedata.normalize('NFD', texto)\n",
    "    texto = texto.lower()\n",
    "    \n",
    "    for i in range(len(texto)):\n",
    "        if texto[i] in letras:\n",
    "            count += 1\n",
    "            \n",
    "    return count\n",
    "\n",
    "def presencaAcentuacao(texto):\n",
    "    \n",
    "    frase = re.split(\"\\s\",texto)\n",
    "    quantidade = 0\n",
    "    \n",
    "    for palavras in frase:\n",
    "        \n",
    "        if palavras.isascii() == False:\n",
    "            quantidade += 1\n",
    "\n",
    "    return quantidade\n",
    "\n",
    "def presencaAcentoInvertido(texto):\n",
    "    \n",
    "    count = 0\n",
    "    acento = [\"¿\"]\n",
    "    \n",
    "    for i in range(len(texto)):\n",
    "        if texto[i] in acento:\n",
    "            count += 1\n",
    "            \n",
    "    return count\n",
    "\n",
    "def extraiCaracteristicas(frase):\n",
    "    \n",
    "    texto = frase[0]\n",
    "    #pattern_regex = re.compile('[^\\w+]', re.UNICODE)\n",
    "    #texto = re.sub(pattern_regex,' ',texto)\n",
    "    caracteristica1=tamanhoMedioFrases(texto)\n",
    "    caracteristica2=quantidadeMediaVogaisFrase(texto)\n",
    "    caracteristica3=quantidadeWeY(texto)\n",
    "    caracteristica4 = presencaAcentuacao(texto)\n",
    "    caracteristica5 = presencaAcentoInvertido(texto)\n",
    "    padrao = [caracteristica1, caracteristica2,\n",
    "              caracteristica3, caracteristica4,\n",
    "              caracteristica5, frase[1]]\n",
    "    \n",
    "    return padrao\n",
    "\n",
    "\n",
    "def geraPadroes(frases):\n",
    "    padroes = []\n",
    "    for frase in frases:\n",
    "        padrao = extraiCaracteristicas(frase)\n",
    "        padroes.append(padrao)\n",
    "    return padroes\n",
    "\n",
    "\n",
    "padroes = geraPadroes(pre_padroes)\n",
    "\n",
    "dados = pd.DataFrame(padroes, \n",
    "                     columns=['tamanhoMedioFrases', 'quantidadeMediaVogaisFrase', \n",
    "                              'quantidadeWeY', 'presencaAcentuacao',\n",
    "                              'presencaAcentoInvertido',\n",
    "                              'classe'])"
   ]
  },
  {
   "cell_type": "code",
   "execution_count": 305,
   "metadata": {},
   "outputs": [
    {
     "data": {
      "text/html": [
       "<div>\n",
       "<style scoped>\n",
       "    .dataframe tbody tr th:only-of-type {\n",
       "        vertical-align: middle;\n",
       "    }\n",
       "\n",
       "    .dataframe tbody tr th {\n",
       "        vertical-align: top;\n",
       "    }\n",
       "\n",
       "    .dataframe thead th {\n",
       "        text-align: right;\n",
       "    }\n",
       "</style>\n",
       "<table border=\"1\" class=\"dataframe\">\n",
       "  <thead>\n",
       "    <tr style=\"text-align: right;\">\n",
       "      <th></th>\n",
       "      <th>tamanhoMedioFrases</th>\n",
       "      <th>quantidadeMediaVogaisFrase</th>\n",
       "      <th>quantidadeWeY</th>\n",
       "      <th>presencaAcentuacao</th>\n",
       "      <th>presencaAcentoInvertido</th>\n",
       "      <th>classe</th>\n",
       "    </tr>\n",
       "  </thead>\n",
       "  <tbody>\n",
       "    <tr>\n",
       "      <th>66</th>\n",
       "      <td>5.750000</td>\n",
       "      <td>4.000000</td>\n",
       "      <td>0.000000</td>\n",
       "      <td>0</td>\n",
       "      <td>0</td>\n",
       "      <td>português</td>\n",
       "    </tr>\n",
       "    <tr>\n",
       "      <th>49</th>\n",
       "      <td>3.285714</td>\n",
       "      <td>3.333333</td>\n",
       "      <td>0.000000</td>\n",
       "      <td>1</td>\n",
       "      <td>0</td>\n",
       "      <td>espanhol</td>\n",
       "    </tr>\n",
       "    <tr>\n",
       "      <th>25</th>\n",
       "      <td>3.166667</td>\n",
       "      <td>2.666667</td>\n",
       "      <td>0.333333</td>\n",
       "      <td>0</td>\n",
       "      <td>0</td>\n",
       "      <td>inglês</td>\n",
       "    </tr>\n",
       "  </tbody>\n",
       "</table>\n",
       "</div>"
      ],
      "text/plain": [
       "    tamanhoMedioFrases  quantidadeMediaVogaisFrase  quantidadeWeY  \\\n",
       "66            5.750000                    4.000000       0.000000   \n",
       "49            3.285714                    3.333333       0.000000   \n",
       "25            3.166667                    2.666667       0.333333   \n",
       "\n",
       "    presencaAcentuacao  presencaAcentoInvertido     classe  \n",
       "66                   0                        0  português  \n",
       "49                   1                        0   espanhol  \n",
       "25                   0                        0     inglês  "
      ]
     },
     "execution_count": 305,
     "metadata": {},
     "output_type": "execute_result"
    }
   ],
   "source": [
    "dados.sample(3)"
   ]
  },
  {
   "cell_type": "markdown",
   "metadata": {
    "id": "Hiy_-Mw6x1HU"
   },
   "source": [
    "<h2>Treinando o modelo com SVM</h1>\n",
    "<p>Separando o conjunto de treinamento do conjunto de testes</p>"
   ]
  },
  {
   "cell_type": "code",
   "execution_count": 306,
   "metadata": {
    "id": "k9JFhvGBx6Uj"
   },
   "outputs": [],
   "source": [
    "vet = np.array(padroes)\n",
    "classes = vet[:,-1]\n",
    "padroes_sem_classe = vet[:,0:-1]\n",
    "X_train, X_test, y_train, y_test = train_test_split(padroes_sem_classe, classes, \n",
    "                                                    test_size=0.25, stratify=classes,\n",
    "                                                    random_state = 42)"
   ]
  },
  {
   "cell_type": "markdown",
   "metadata": {
    "id": "o3YCjbFm2Gdq"
   },
   "source": [
    "Com os conjuntos separados, podemos \"treinar\" o modelo usando a SVM."
   ]
  },
  {
   "cell_type": "code",
   "execution_count": 307,
   "metadata": {},
   "outputs": [
    {
     "name": "stdout",
     "output_type": "stream",
     "text": [
      "CPU times: total: 15.6 ms\n",
      "Wall time: 3 ms\n"
     ]
    }
   ],
   "source": [
    "%%time\n",
    "treinador = svm.SVC()  \n",
    "modelo = treinador.fit(X_train, y_train)"
   ]
  },
  {
   "cell_type": "code",
   "execution_count": 308,
   "metadata": {},
   "outputs": [
    {
     "name": "stdout",
     "output_type": "stream",
     "text": [
      "Acurácia nos dados de treinamento: 76.81%\n",
      "\n",
      "              precision    recall  f1-score   support\n",
      "\n",
      "    espanhol       0.75      0.55      0.63        22\n",
      "      inglês       0.74      0.87      0.80        23\n",
      "   português       0.81      0.88      0.84        24\n",
      "\n",
      "    accuracy                           0.77        69\n",
      "   macro avg       0.77      0.76      0.76        69\n",
      "weighted avg       0.77      0.77      0.76        69\n",
      "\n"
     ]
    },
    {
     "data": {
      "image/png": "[encoded data removed]",
      "text/plain": [
       "<Figure size 640x480 with 2 Axes>"
      ]
     },
     "metadata": {},
     "output_type": "display_data"
    }
   ],
   "source": [
    "# score com os dados de treinamento\n",
    "acuracia = modelo.score(X_train, y_train)\n",
    "print(\"Acurácia nos dados de treinamento: {:.2f}%\".format(acuracia * 100) + \"\\n\")\n",
    "\n",
    "# melhor avaliar com a matriz de confusão\n",
    "y_pred = modelo.predict(X_train)\n",
    "cm = confusion_matrix(y_train, y_pred)\n",
    "sns.heatmap(cm/np.sum(cm, axis=1), annot=True, fmt='.2%', cmap='Blues')\n",
    "print(classification_report(y_train, y_pred))\n"
   ]
  },
  {
   "cell_type": "code",
   "execution_count": 309,
   "metadata": {
    "colab": {
     "base_uri": "https://localhost:8080/"
    },
    "id": "0ggUrZC42ib4",
    "outputId": "f9f3bbe6-473c-49f3-b2b0-c21eb8e10d3a"
   },
   "outputs": [
    {
     "name": "stdout",
     "output_type": "stream",
     "text": [
      "Métricas mais confiáveis - Análise da Qualidade de Previsão \n",
      "\n",
      "Acurácia nos dados de teste: 78.26%\n",
      "\n",
      "              precision    recall  f1-score   support\n",
      "\n",
      "    espanhol       0.67      0.75      0.71         8\n",
      "      inglês       0.88      1.00      0.93         7\n",
      "   português       0.83      0.62      0.71         8\n",
      "\n",
      "    accuracy                           0.78        23\n",
      "   macro avg       0.79      0.79      0.78        23\n",
      "weighted avg       0.79      0.78      0.78        23\n",
      "\n"
     ]
    },
    {
     "data": {
      "image/png": "[encoded data removed]",
      "text/plain": [
       "<Figure size 640x480 with 2 Axes>"
      ]
     },
     "metadata": {},
     "output_type": "display_data"
    }
   ],
   "source": [
    "# com dados de teste que não foram usados no treinamento\n",
    "\n",
    "print('Métricas mais confiáveis - Análise da Qualidade de Previsão \\n')\n",
    "\n",
    "y_pred2 = modelo.predict(X_test)\n",
    "acuracia = accuracy_score(y_test, y_pred2)\n",
    "\n",
    "print(\"Acurácia nos dados de teste: {:.2f}%\".format(acuracia * 100) + \"\\n\")\n",
    "\n",
    "\n",
    "cm = confusion_matrix(y_test, y_pred2)\n",
    "sns.heatmap(cm/np.sum(cm, axis=1), annot=True, fmt='.2%', cmap='Blues')\n",
    "print(classification_report(y_test, y_pred2))\n"
   ]
  }
 ],
 "metadata": {
  "colab": {
   "provenance": []
  },
  "kernelspec": {
   "display_name": "Python 3 (ipykernel)",
   "language": "python",
   "name": "python3"
  },
  "language_info": {
   "codemirror_mode": {
    "name": "ipython",
    "version": 3
   },
   "file_extension": ".py",
   "mimetype": "text/x-python",
   "name": "python",
   "nbconvert_exporter": "python",
   "pygments_lexer": "ipython3",
   "version": "3.9.13"
  }
 },
 "nbformat": 4,
 "nbformat_minor": 1
}
