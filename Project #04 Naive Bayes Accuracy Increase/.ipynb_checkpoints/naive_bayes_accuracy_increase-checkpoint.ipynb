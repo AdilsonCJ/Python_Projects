{
 "cells": [
  {
   "cell_type": "markdown",
   "id": "39806c0d",
   "metadata": {},
   "source": [
    "## Naive Bayes\n",
    "<br>\n",
    "<b>Problem:</b> Is it possible to enhance the score metrics of a Default Naive Bayes Algorithm?\n",
    "<br>"
   ]
  },
  {
   "cell_type": "markdown",
   "id": "d69c3129",
   "metadata": {},
   "source": [
    " "
   ]
  },
  {
   "cell_type": "code",
   "execution_count": 1,
   "id": "6b558092",
   "metadata": {},
   "outputs": [],
   "source": [
    "import pandas as pd\n",
    "import os\n",
    "from pathlib import Path\n",
    "from nltk.corpus import stopwords\n",
    "from nltk.tokenize import word_tokenize\n",
    "from collections import defaultdict"
   ]
  },
  {
   "cell_type": "markdown",
   "id": "726bde45",
   "metadata": {},
   "source": [
    " "
   ]
  },
  {
   "cell_type": "markdown",
   "id": "c638285d",
   "metadata": {},
   "source": [
    "# Initial Model (Not my model!)"
   ]
  },
  {
   "cell_type": "code",
   "execution_count": 8,
   "id": "6b812ae2",
   "metadata": {},
   "outputs": [
    {
     "data": {
      "text/plain": [
       "'C:\\\\Users\\\\adilson.junior\\\\Desktop\\\\Pós\\\\Trabalho 02'"
      ]
     },
     "execution_count": 8,
     "metadata": {},
     "output_type": "execute_result"
    }
   ],
   "source": [
    "os.getcwd()"
   ]
  },
  {
   "cell_type": "code",
   "execution_count": 9,
   "id": "3a95536c",
   "metadata": {},
   "outputs": [
    {
     "name": "stdout",
     "output_type": "stream",
     "text": [
      "Counter({(False, False): 683, (True, True): 71, (True, False): 45, (False, True): 26})\n",
      "spammiest_words ['attn', 'zzzz', 'clearance', 'per', 'money', 'only', 'sale', 'systemworks', 'adv', 'rates']\n",
      "hammiest_words ['satalk', 'spambayes', 'users', 'razor', 'sadev', 'zzzzteana', 'ouch', 'apt', 'perl', 'bliss']\n"
     ]
    }
   ],
   "source": [
    "from typing import TypeVar, List, Tuple, Dict, Iterable, NamedTuple, Set\n",
    "from collections import defaultdict, Counter\n",
    "import re\n",
    "import random\n",
    "import math\n",
    "\n",
    "X = TypeVar('X')  # generic type to represent a data point\n",
    "\n",
    "def split_data(data: List[X], prob: float) -> Tuple[List[X], List[X]]:\n",
    "    \"\"\"Split data into fractions [prob, 1 - prob]\"\"\"\n",
    "    data = data[:]                    # Make a shallow copy\n",
    "    random.shuffle(data)              # because shuffle modifies the list.\n",
    "    cut = int(len(data) * prob)       # Use prob to find a cutoff\n",
    "    return data[:cut], data[cut:]     # and split the shuffled list there.\n",
    "\n",
    "def tokenize(text: str) -> Set[str]:\n",
    "    text = text.lower()                         # Convert to lowercase,\n",
    "    all_words = re.findall(\"[a-z0-9']+\", text)  # extract the words, and\n",
    "    return set(all_words)                       # remove duplicates.\n",
    "\n",
    "assert tokenize(\"Data Science is science\") == {\"data\", \"science\", \"is\"}\n",
    "\n",
    "class Message(NamedTuple):\n",
    "    text: str\n",
    "    is_spam: bool\n",
    "\n",
    "class NaiveBayesClassifier:\n",
    "    \n",
    "    def __init__(self, k: float = 0.5) -> None:\n",
    "        self.k = k  # smoothing factor\n",
    "\n",
    "        self.tokens: Set[str] = set()\n",
    "        self.token_spam_counts: Dict[str, int] = defaultdict(int)\n",
    "        self.token_ham_counts: Dict[str, int] = defaultdict(int)\n",
    "        self.spam_messages = self.ham_messages = 0\n",
    "\n",
    "    def train(self, messages: Iterable[Message]) -> None:\n",
    "        for message in messages:\n",
    "            # Increment message counts\n",
    "            if message.is_spam:\n",
    "                self.spam_messages += 1\n",
    "            else:\n",
    "                self.ham_messages += 1\n",
    "\n",
    "            # Increment word counts\n",
    "            for token in tokenize(message.text):\n",
    "                self.tokens.add(token)\n",
    "                if message.is_spam:\n",
    "                    self.token_spam_counts[token] += 1\n",
    "                else:\n",
    "                    self.token_ham_counts[token] += 1\n",
    "\n",
    "                    \n",
    "    def probabilities(self, token: str) -> Tuple[float, float]:\n",
    "        \"\"\"returns P(token | spam) and P(token | not spam)\"\"\"\n",
    "        spam = self.token_spam_counts[token]\n",
    "        ham = self.token_ham_counts[token]\n",
    "\n",
    "        p_token_spam = (spam + self.k) / (self.spam_messages + 2 * self.k)\n",
    "        p_token_ham = (ham + self.k) / (self.ham_messages + 2 * self.k)\n",
    "\n",
    "        return p_token_spam, p_token_ham\n",
    "\n",
    "    def predict(self, text: str) -> float:\n",
    "        text_tokens = tokenize(text)\n",
    "        log_prob_if_spam = log_prob_if_ham = 0.0\n",
    "\n",
    "        # Iterate through each word in our vocabulary.\n",
    "        for token in self.tokens:\n",
    "            prob_if_spam, prob_if_ham = self.probabilities(token)\n",
    "\n",
    "            # If *token* appears in the message,\n",
    "            # add the log probability of seeing it;\n",
    "            if token in text_tokens:\n",
    "                log_prob_if_spam += math.log(prob_if_spam)\n",
    "                log_prob_if_ham += math.log(prob_if_ham)\n",
    "\n",
    "            # otherwise add the log probability of _not_ seeing it\n",
    "            # which is log(1 - probability of seeing it)\n",
    "            else:\n",
    "                log_prob_if_spam += math.log(1.0 - prob_if_spam)\n",
    "                log_prob_if_ham += math.log(1.0 - prob_if_ham)\n",
    "\n",
    "        prob_if_spam = math.exp(log_prob_if_spam)\n",
    "        prob_if_ham = math.exp(log_prob_if_ham)\n",
    "        return prob_if_spam / (prob_if_spam + prob_if_ham)\n",
    "\n",
    "    \n",
    "########################################################################################################################   \n",
    "    \n",
    "#def main():\n",
    "import glob\n",
    "\n",
    "# modify the path to wherever you've put the files\n",
    "path = r'C:/Users/adilson.junior/Desktop/Pós/Trabalho 02/emails/*/*'\n",
    "\n",
    "data: List[Message] = []\n",
    "\n",
    "# glob.glob returns every filename that matches the wildcarded path\n",
    "for filename in glob.glob(path):\n",
    "    is_spam = \"ham\" not in filename\n",
    "\n",
    "    # There are some garbage characters in the emails, the errors='ignore'\n",
    "    # skips them instead of raising an exception.\n",
    "    with open(filename, errors='ignore') as email_file:\n",
    "        for line in email_file:\n",
    "            if line.startswith(\"Subject:\"):\n",
    "                subject = line.lstrip(\"Subject: \")\n",
    "                data.append(Message(subject, is_spam))\n",
    "                break  # done with this file\n",
    "                \n",
    "train_messages, test_messages = split_data(data, 0.75)\n",
    "\n",
    "model = NaiveBayesClassifier()\n",
    "model.train(train_messages)\n",
    "\n",
    "predictions = [(message, model.predict(message.text))\n",
    "               for message in test_messages]\n",
    "\n",
    "# Assume that spam_probability > 0.5 corresponds to spam prediction\n",
    "# and count the combinations of (actual is_spam, predicted is_spam)\n",
    "confusion_matrix = Counter((message.is_spam, spam_probability > 0.5)\n",
    "                           for message, spam_probability in predictions)\n",
    "\n",
    "print(confusion_matrix)\n",
    "\n",
    "def p_spam_given_token(token: str, model: NaiveBayesClassifier) -> float:\n",
    "    prob_if_spam, prob_if_ham = model.probabilities(token)\n",
    "\n",
    "    return prob_if_spam / (prob_if_spam + prob_if_ham)\n",
    "\n",
    "words = sorted(model.tokens, key=lambda t: p_spam_given_token(t, model))\n",
    "\n",
    "print(\"spammiest_words\", words[-10:])\n",
    "print(\"hammiest_words\", words[:10])"
   ]
  },
  {
   "cell_type": "markdown",
   "id": "bffd7782",
   "metadata": {},
   "source": [
    " "
   ]
  },
  {
   "cell_type": "markdown",
   "id": "6cf38298",
   "metadata": {},
   "source": [
    " "
   ]
  },
  {
   "cell_type": "markdown",
   "id": "e275e26b",
   "metadata": {},
   "source": [
    " "
   ]
  },
  {
   "cell_type": "markdown",
   "id": "e6747e6f",
   "metadata": {},
   "source": [
    " "
   ]
  },
  {
   "cell_type": "markdown",
   "id": "bf6c5716",
   "metadata": {},
   "source": [
    " "
   ]
  },
  {
   "cell_type": "markdown",
   "id": "70df9d67",
   "metadata": {},
   "source": [
    " "
   ]
  },
  {
   "cell_type": "markdown",
   "id": "5dfc6f1e",
   "metadata": {},
   "source": [
    " "
   ]
  },
  {
   "cell_type": "markdown",
   "id": "92955d7b",
   "metadata": {},
   "source": [
    "# New Model (now that's my code)"
   ]
  },
  {
   "cell_type": "code",
   "execution_count": 12,
   "id": "5f8d6931",
   "metadata": {},
   "outputs": [
    {
     "name": "stdout",
     "output_type": "stream",
     "text": [
      "CPU times: total: 4.22 s\n",
      "Wall time: 4.28 s\n"
     ]
    }
   ],
   "source": [
    "%%time\n",
    "\n",
    "#def main():\n",
    "import glob\n",
    "\n",
    "# função para buscar texto do body\n",
    "def substring_after(s, delim):\n",
    "    return s.partition(delim)[2]\n",
    "\n",
    "# Path teste\n",
    "\n",
    "#path = r'C:/Users/adilson.junior/Desktop/Pós/Trabalho 02/emails/easy_ham/0001.ea7e79d3153e7469e7a9c3e0af6a357e'\n",
    "\n",
    "path = r'C:/Users/adilson.junior/Desktop/Pós/Trabalho 02/emails/*/*'\n",
    "\n",
    "data: List[Message] = []\n",
    "\n",
    "for filename in glob.glob(path):\n",
    "    \n",
    "    stop_list = set(stopwords.words(\"english\"))\n",
    "    is_spam = \"ham\" not in filename\n",
    "\n",
    "    with open(filename, errors='ignore') as email_file:      \n",
    "        for line in email_file:\n",
    "            if line.startswith(\"Subject:\"):\n",
    "                subject = line.lstrip(\"Subject: \")                  \n",
    "                break  \n",
    "                \n",
    "    with open(filename, errors='ignore') as email_file:    \n",
    "        string = email_file.read()\n",
    "        string = substring_after(string,\"Message-ID: \")\n",
    "        \n",
    "    with open(filename, errors='ignore') as email_file:    \n",
    "        string_x = email_file.read()\n",
    "        string_x = substring_after(string_x,\"Content-Transfer-Encoding: \")\n",
    "    \n",
    "    # Limpeza dos caracteres especiais subject\n",
    "    subject = subject.replace('Re: ','').replace('\\n', '')\n",
    "    subject = re.sub('[^\\w\\s]','',subject)\n",
    "    \n",
    "    string = string.replace('\\n', '')\n",
    "    string = re.sub('[^\\w\\s]','',string)\n",
    "    \n",
    "    string_x = string_x.replace('\\n', '')\n",
    "    string_x = re.sub('[^\\w\\s]','',string_x)   \n",
    "    \n",
    "    message_concat = subject + string + string_x\n",
    "    \n",
    "    filtered_message = ' '.join([word for word in message_concat.split() if word not in stop_list and len(word) <= 15])\n",
    "        \n",
    "    data.append(Message(filtered_message, is_spam))"
   ]
  },
  {
   "cell_type": "code",
   "execution_count": 13,
   "id": "0bc17e67",
   "metadata": {},
   "outputs": [],
   "source": [
    "from typing import TypeVar, List, Tuple, Dict, Iterable, NamedTuple, Set\n",
    "from collections import defaultdict, Counter\n",
    "import re\n",
    "import random\n",
    "import math\n",
    "\n",
    "X = TypeVar('X')  # generic type to represent a data point\n",
    "\n",
    "def split_data(data: List[X], prob: float) -> Tuple[List[X], List[X]]:\n",
    "    \"\"\"Split data into fractions [prob, 1 - prob]\"\"\"\n",
    "    data = data[:]                    # Make a shallow copy\n",
    "    random.shuffle(data)              # because shuffle modifies the list.\n",
    "    cut = int(len(data) * prob)       # Use prob to find a cutoff\n",
    "    return data[:cut], data[cut:]     # and split the shuffled list there.\n",
    "\n",
    "def tokenize(text: str) -> Set[str]:\n",
    "    text = text.lower()                         # Convert to lowercase,\n",
    "    all_words = re.findall(\"[a-z0-9']+\", text)  # extract the words, and\n",
    "    return set(all_words)                       # remove duplicates.\n",
    "\n",
    "assert tokenize(\"Data Science is science\") == {\"data\", \"science\", \"is\"}\n",
    "\n",
    "class Message(NamedTuple):\n",
    "    text: str\n",
    "    is_spam: bool\n",
    "\n",
    "class NaiveBayesClassifier:\n",
    "    def __init__(self, k: float = 0.5) -> None:\n",
    "        self.k = k  # smoothing factor\n",
    "\n",
    "        self.tokens: Set[str] = set()\n",
    "        self.token_spam_counts: Dict[str, int] = defaultdict(int)\n",
    "        self.token_ham_counts: Dict[str, int] = defaultdict(int)\n",
    "        self.spam_messages = self.ham_messages = 0\n",
    "\n",
    "    def train(self, messages: Iterable[Message]) -> None:\n",
    "        for message in messages:\n",
    "            # Increment message counts\n",
    "            if message.is_spam:\n",
    "                self.spam_messages += 1\n",
    "            else:\n",
    "                self.ham_messages += 1\n",
    "\n",
    "            # Increment word counts\n",
    "            for token in tokenize(message.text):\n",
    "                self.tokens.add(token)\n",
    "                if message.is_spam:\n",
    "                    self.token_spam_counts[token] += 1\n",
    "                else:\n",
    "                    self.token_ham_counts[token] += 1\n",
    "                    \n",
    "        # Condição de filtrar palavras com 3 ou menos aparições\n",
    "        self.token_spam_counts = defaultdict(int,{key: frequency for key, frequency in self.token_spam_counts.items() if frequency >= 5})\n",
    "        self.token_ham_counts = defaultdict(int,{key: frequency for key, frequency in self.token_ham_counts.items() if frequency >= 5})\n",
    "        \n",
    "\n",
    "    def probabilities(self, token: str) -> Tuple[float, float]:\n",
    "        \"\"\"returns P(token | spam) and P(token | not spam)\"\"\"\n",
    "        spam = self.token_spam_counts[token]\n",
    "        ham = self.token_ham_counts[token]\n",
    "        \n",
    "        # Probabilidade da palavra aparecer dentro do set de spam messages\n",
    "        p_token_spam = (spam + self.k) / (self.spam_messages + 2 * self.k)\n",
    "        \n",
    "        # Probabilidade da palavra aparecer dentro do set de ham  messages\n",
    "        p_token_ham = (ham + self.k) / (self.ham_messages + 2 * self.k)\n",
    "\n",
    "        return p_token_spam, p_token_ham\n",
    "\n",
    "    def predict(self, text: str) -> float:\n",
    "        \n",
    "        text_tokens = tokenize(text)\n",
    "        log_prob_if_spam = log_prob_if_ham = 0.0\n",
    "        \n",
    "        # Iterate through each word in our vocabulary.\n",
    "        # Primeiro Itera sob a lista de tokens salvos e suas probabilidades de estar em spam e ham\n",
    "        for token in self.tokens:\n",
    "            prob_if_spam, prob_if_ham = self.probabilities(token)\n",
    "\n",
    "            # If *token* appears in the message,\n",
    "            # add the log probability of seeing it;\n",
    "            # Depois faz o comparativo com os dados das mensagens de teste\n",
    "            if token in text_tokens:\n",
    "                log_prob_if_spam += math.log(prob_if_spam)\n",
    "                log_prob_if_ham += math.log(prob_if_ham)\n",
    "\n",
    "            # otherwise add the log probability of _not_ seeing it\n",
    "            # which is log(1 - probability of seeing it)\n",
    "            else:\n",
    "                log_prob_if_spam += math.log(1.0 - prob_if_spam)\n",
    "                log_prob_if_ham += math.log(1.0 - prob_if_ham)\n",
    "\n",
    "        prob_if_spam = math.exp(log_prob_if_spam)\n",
    "        prob_if_ham = math.exp(log_prob_if_ham)\n",
    "        \n",
    "        try:\n",
    "            result = prob_if_spam / (prob_if_spam + prob_if_ham)\n",
    "        except:\n",
    "            result = 0.5\n",
    "        \n",
    "        return result"
   ]
  },
  {
   "cell_type": "code",
   "execution_count": 14,
   "id": "c7eed9b1",
   "metadata": {},
   "outputs": [
    {
     "name": "stdout",
     "output_type": "stream",
     "text": [
      "Counter({(False, False): 1397, (True, False): 193, (True, True): 58, (False, True): 3})\n"
     ]
    }
   ],
   "source": [
    "train_messages, test_messages = split_data(data, 0.50)\n",
    "\n",
    "model = NaiveBayesClassifier(k=0.5)\n",
    "model.train(train_messages)\n",
    "\n",
    "predictions = [(message, model.predict(message.text))\n",
    "               for message in test_messages]\n",
    "\n",
    "confusion_matrix = Counter((message.is_spam, spam_probability > 0.5)\n",
    "                           for message, spam_probability in predictions)\n",
    "\n",
    "print(confusion_matrix)"
   ]
  },
  {
   "cell_type": "markdown",
   "id": "fb05f95f",
   "metadata": {},
   "source": [
    " "
   ]
  },
  {
   "cell_type": "markdown",
   "id": "b7831fb4",
   "metadata": {},
   "source": [
    " "
   ]
  },
  {
   "cell_type": "markdown",
   "id": "67d09423",
   "metadata": {},
   "source": [
    " "
   ]
  },
  {
   "cell_type": "markdown",
   "id": "65d581b0",
   "metadata": {},
   "source": [
    " "
   ]
  },
  {
   "cell_type": "markdown",
   "id": "878e5e24",
   "metadata": {},
   "source": [
    " "
   ]
  },
  {
   "cell_type": "markdown",
   "id": "b8b944d7",
   "metadata": {},
   "source": [
    " "
   ]
  },
  {
   "cell_type": "markdown",
   "id": "ab7244fb",
   "metadata": {},
   "source": [
    "# Final Analysis"
   ]
  },
  {
   "cell_type": "code",
   "execution_count": 20,
   "id": "abae1f4c",
   "metadata": {},
   "outputs": [
    {
     "name": "stdout",
     "output_type": "stream",
     "text": [
      "Primeiro Modelo\n"
     ]
    },
    {
     "data": {
      "text/plain": [
       "Counter({(False, False): 683,\n",
       "         (True, True): 71,\n",
       "         (True, False): 45,\n",
       "         (False, True): 26})"
      ]
     },
     "execution_count": 20,
     "metadata": {},
     "output_type": "execute_result"
    }
   ],
   "source": [
    "print('First Model')\n",
    "\n",
    "Counter({(False, False): 683, (True, True): 71, (True, False): 45, (False, True): 26})"
   ]
  },
  {
   "cell_type": "code",
   "execution_count": 21,
   "id": "1948fb64",
   "metadata": {},
   "outputs": [
    {
     "name": "stdout",
     "output_type": "stream",
     "text": [
      "Modelo Atualizado\n"
     ]
    },
    {
     "data": {
      "text/plain": [
       "Counter({(False, False): 1397,\n",
       "         (True, False): 193,\n",
       "         (True, True): 58,\n",
       "         (False, True): 3})"
      ]
     },
     "execution_count": 21,
     "metadata": {},
     "output_type": "execute_result"
    }
   ],
   "source": [
    "print('Updated Model')\n",
    "\n",
    "Counter({(False, False): 1397, (True, False): 193, (True, True): 58, (False, True): 3})"
   ]
  },
  {
   "cell_type": "markdown",
   "id": "7756639c",
   "metadata": {},
   "source": [
    "## Considering the above upgrades:\n",
    "\n",
    "    1. Tokenizing not only the email subject but also the email BODY\n",
    "    2. Filters words with 3 or less occurrences (min_count)\n",
    "    3. Implementation of stop_words to avoid noises on the analysis\n",
    "    4. At the end - apply a try/except as a 50% classificator to avoid zero division problem\n",
    "    \n",
    "## Results\n",
    "\n",
    "    Even though the new model is able to identify more spams (2x comparing to the old model) que amount of False positives     also increased by 3 times. As it is more important for the data safety to avoid Spam than to classify a healthy email       as Spam, we can considered the updates satisfactory"
   ]
  }
 ],
 "metadata": {
  "kernelspec": {
   "display_name": "Python 3 (ipykernel)",
   "language": "python",
   "name": "python3"
  },
  "language_info": {
   "codemirror_mode": {
    "name": "ipython",
    "version": 3
   },
   "file_extension": ".py",
   "mimetype": "text/x-python",
   "name": "python",
   "nbconvert_exporter": "python",
   "pygments_lexer": "ipython3",
   "version": "3.9.13"
  }
 },
 "nbformat": 4,
 "nbformat_minor": 5
}
