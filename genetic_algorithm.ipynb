{
 "cells": [
  {
   "cell_type": "code",
   "execution_count": 1,
   "id": "f76a8f16",
   "metadata": {},
   "outputs": [],
   "source": [
    "import numpy as np\n",
    "import random\n",
    "import pandas as pd\n",
    "import math\n",
    "from datetime import datetime\n",
    "import matplotlib.pyplot as plt"
   ]
  },
  {
   "cell_type": "markdown",
   "id": "159b1709",
   "metadata": {},
   "source": [
    "### Genetic Algorithm Steps\n",
    "<br>\n",
    " \n",
    "Genetic Algorithms are used to solve n! situations where the best fit is impossible to be knowed (we try to search for a good fit, not the best). Ex for 20 cities we would have a 19! problem scale and that could potentially take 1000+ years to solve.\n",
    "\n",
    "<br>\n",
    "-<b> Prepare Population </b> Define the raw data, define the distance function\n",
    "<br> \n",
    "\n",
    "-<b> Get Population </b> Population would be the input (in this case the combination of route). Ex = [1, 3, 2, 4] or [4, 2, 3, 1]\n",
    "<br>\n",
    "\n",
    "-<b> Fitness </b> Evaluation of scores for each solution across the population. The higher the fitness the better solution. We must ensure that our solution has a high fitness. In the case of the routes we should take the shortest one. The number of the route must be multiplied by -1 to ensure that the minimium dist would have the hightest fitness (min length). We could also apply 1/length to ensure the min_route would have higher fitness.\n",
    "<br>\n",
    "\n",
    "-<b> Sort the Population by Fitness </b> self explained. The highest fitness population (ind) would go to the next generation. The size of this sample is a hyper-parameter. We can have a Roullete Wheel also to add randomness to the algorithm\n",
    "<br>\n",
    "\n",
    "-<b> Father (first solution) and Mother (Second Solution) </b> In this step we would start \"breeding\" the solutions to create new individuals - crossover method as an example. If there is a repetition on the solution we could perform a for loop to mitigate that\n",
    "<br>\n",
    "\n",
    "-<b> Mutation </b> Choose any element on the Child and change it randomnly (Each solution is called chromossome and each element of it is called gene). That is called offspring (new child based on mutation)\n",
    "<br>\n",
    "\n",
    "-<b> New Cycle </b> Replace the original population within the last input (algorithm conversion)\n",
    "<br>\n",
    "\n",
    "-<b> Resume </b> Get Data > Define Distance Func. > Get Population Randomnly (combinations of routes) > Create Fitness > Select best Fitness > From the best perform a cross_over from father/mother > on the child perform Mutation > Replace part of the original population with new sample"
   ]
  },
  {
   "cell_type": "markdown",
   "id": "5a38850e",
   "metadata": {},
   "source": [
    " "
   ]
  },
  {
   "cell_type": "markdown",
   "id": "f9daee48",
   "metadata": {},
   "source": [
    "#### Generating City Locations"
   ]
  },
  {
   "cell_type": "code",
   "execution_count": 2,
   "id": "724f940d",
   "metadata": {},
   "outputs": [
    {
     "data": {
      "text/plain": [
       "array([[207, 218],\n",
       "       [173, 181],\n",
       "       [ 50,  92],\n",
       "       [171, 206],\n",
       "       [202,  72],\n",
       "       [ 66, 110],\n",
       "       [ 74, 223],\n",
       "       [ 60,  38],\n",
       "       [ 83,  69],\n",
       "       [185,  54]])"
      ]
     },
     "execution_count": 2,
     "metadata": {},
     "output_type": "execute_result"
    }
   ],
   "source": [
    "def CitiesGraph(numCities, minDist, maxDist):\n",
    "    \n",
    "    cities = np.zeros(shape=(numCities, 2), dtype=int)\n",
    "\n",
    "    for city in range(numCities):\n",
    "        # Define X element of Location\n",
    "        cities[city, 0] = random.randint(minDist, maxDist)\n",
    "        cities[city, 1] = random.randint(minDist, maxDist)\n",
    "    \n",
    "    return cities\n",
    "\n",
    "numCities = 10 # Initial Number of Cities\n",
    "\n",
    "cities = CitiesGraph(numCities, \n",
    "                     minDist = 0, \n",
    "                     maxDist = 250)\n",
    "\n",
    "cities"
   ]
  },
  {
   "cell_type": "markdown",
   "id": "06c12ef3",
   "metadata": {},
   "source": [
    "#### Calculates Initial Population"
   ]
  },
  {
   "cell_type": "code",
   "execution_count": 3,
   "id": "aff36472",
   "metadata": {},
   "outputs": [
    {
     "data": {
      "text/plain": [
       "[[0, 7, 6, 2, 9, 1, 3, 8, 4, 5, 0],\n",
       " [2, 1, 3, 9, 7, 0, 8, 6, 4, 5, 2],\n",
       " [9, 7, 8, 4, 0, 2, 6, 3, 1, 5, 9],\n",
       " [7, 2, 0, 3, 9, 4, 8, 5, 1, 6, 7],\n",
       " [5, 7, 8, 2, 6, 0, 4, 1, 3, 9, 5],\n",
       " [6, 8, 0, 1, 3, 7, 9, 2, 5, 4, 6]]"
      ]
     },
     "execution_count": 3,
     "metadata": {},
     "output_type": "execute_result"
    }
   ],
   "source": [
    "def shuffle_list(cities, population_size):\n",
    "    \n",
    "    random_route = []\n",
    "    default_list = [city_index for city_index in range(len(cities))]\n",
    "    \n",
    "    while len(random_route) < population_size:\n",
    "        \n",
    "        shuffle_list = default_list.copy()\n",
    "        random.shuffle(shuffle_list)\n",
    "        shuffle_list.append(shuffle_list[0])\n",
    "        \n",
    "        if shuffle_list in random_route:\n",
    "            pass\n",
    "        else:\n",
    "            random_route.append(shuffle_list)\n",
    "            \n",
    "    return random_route\n",
    "\n",
    "def initial_population(cities, population_size):\n",
    "    \n",
    "    if population_size > math.factorial(len(cities)-1):\n",
    "        print('Define a population_size less than (n-1)!')\n",
    "    else:\n",
    "        return shuffle_list(cities=cities, population_size=population_size)\n",
    "    \n",
    "initial_pop = initial_population(cities=cities, population_size=6)\n",
    "\n",
    "initial_pop"
   ]
  },
  {
   "cell_type": "markdown",
   "id": "e6011df9",
   "metadata": {},
   "source": [
    "<b>cities</b> > array containing city (x,y) coordinates for each city. Obs: city \"name\" is the array position\n",
    "<br>\n",
    "<b>initial_population</b> > array containing the routes based on population_size (ex: [4, 1, 0, 2, 3])"
   ]
  },
  {
   "cell_type": "markdown",
   "id": "9f2c5a97",
   "metadata": {},
   "source": [
    "#### Calculates Distance and Route Length"
   ]
  },
  {
   "cell_type": "code",
   "execution_count": 4,
   "id": "398a2ddc",
   "metadata": {},
   "outputs": [
    {
     "data": {
      "text/plain": [
       "array([[232.39836488, 185.52897348, 133.18032888, 140.24621207,\n",
       "        127.56566936,  25.07987241, 162.82813025, 119.03780912,\n",
       "        141.20906486, 177.60912139],\n",
       "       [151.82226451,  25.07987241, 152.64337522, 126.01983971,\n",
       "        232.39836488, 193.8478785 , 154.26276284, 197.95201439,\n",
       "        141.20906486,  24.08318916],\n",
       "       [126.01983971,  38.60051813, 119.03780912, 146.08559135,\n",
       "        201.30822139, 133.18032888,  98.47842403,  25.07987241,\n",
       "        128.41339494, 131.5180596 ],\n",
       "       [ 54.91812087, 201.30822139,  37.94733192, 152.64337522,\n",
       "         24.75883681, 119.03780912,  44.38468204, 128.41339494,\n",
       "        107.54068997, 185.52897348],\n",
       "       [ 72.24956747,  38.60051813,  40.22437072, 133.18032888,\n",
       "        133.09395178, 146.08559135, 112.79184368,  25.07987241,\n",
       "        152.64337522, 131.5180596 ],\n",
       "       [154.26276284, 193.8478785 ,  50.24937811,  25.07987241,\n",
       "        201.35789033, 126.01983971, 140.24621207,  24.08318916,\n",
       "        141.20906486, 197.95201439]])"
      ]
     },
     "execution_count": 4,
     "metadata": {},
     "output_type": "execute_result"
    }
   ],
   "source": [
    "def calculate_distances(pop_array, city_location = cities):\n",
    "    \n",
    "    distances_matrix = []\n",
    "    distances_row = []\n",
    "    \n",
    "    for route in pop_array:\n",
    "        \n",
    "        counter = 0\n",
    "        while counter < (len(route) - 1):\n",
    "            first_city = city_location[route[counter]]\n",
    "            second_city = city_location[route[counter+1]]\n",
    "            distance = math.dist(first_city, second_city)\n",
    "            distances_row.append(distance)\n",
    "            counter = counter + 1\n",
    "            \n",
    "        distances_matrix.append(distances_row)\n",
    "        distances_row = []\n",
    "        \n",
    "    # output will be a matriz containing the distances for each route of the population (either the initial or generational)\n",
    "    return np.array(distances_matrix)\n",
    "\n",
    "initial_distances = calculate_distances(pop_array=initial_pop, city_location = cities)\n",
    "# expected shape > (population, cities) considering that the target must return to the first city after that\n",
    "\n",
    "initial_distances"
   ]
  },
  {
   "cell_type": "code",
   "execution_count": 5,
   "id": "9b9e0f5e",
   "metadata": {},
   "outputs": [
    {
     "data": {
      "text/plain": [
       "[0.0006921931119688693,\n",
       " 0.000714633523110903,\n",
       " 0.0008712910862646941,\n",
       " 0.000946538165406684,\n",
       " 0.0010147468293658917,\n",
       " 0.0007972522844277113]"
      ]
     },
     "execution_count": 5,
     "metadata": {},
     "output_type": "execute_result"
    }
   ],
   "source": [
    "def calculate_fitness(distance_array):\n",
    "    \n",
    "    fitness_matrix = []\n",
    "    \n",
    "    for route_index in distance_array:\n",
    "        \n",
    "        fitness_row = 1/sum(route_index)\n",
    "        \n",
    "        fitness_matrix.append(fitness_row)\n",
    "    \n",
    "    return fitness_matrix\n",
    "\n",
    "initial_fitness = calculate_fitness(distance_array=initial_distances)\n",
    "\n",
    "initial_fitness"
   ]
  },
  {
   "cell_type": "markdown",
   "id": "34852756",
   "metadata": {},
   "source": [
    "<b>cities</b> > array containing city (x,y) coordinates for each city. Obs: city \"name\" is the array position\n",
    "<br>\n",
    "<b>initial_population</b> > array containing the routes based on population_size (ex: [4, 1, 0, 2, 3])\n",
    "<br>\n",
    "<b>initial_distances</b > array containing the distances between each point of row\n",
    "<br>\n",
    "<b>initial_fitness</b> > array containing the fitness values for each route "
   ]
  },
  {
   "cell_type": "markdown",
   "id": "af786a57",
   "metadata": {},
   "source": [
    "#### Select Best Half of Population"
   ]
  },
  {
   "cell_type": "code",
   "execution_count": 6,
   "id": "d884c04c",
   "metadata": {},
   "outputs": [
    {
     "data": {
      "text/plain": [
       "([5, 7, 8, 2, 6, 0, 4, 1, 3, 9, 5],\n",
       " [7, 2, 0, 3, 9, 4, 8, 5, 1, 6, 7],\n",
       " [9, 7, 8, 4, 0, 2, 6, 3, 1, 5, 9])"
      ]
     },
     "execution_count": 6,
     "metadata": {},
     "output_type": "execute_result"
    }
   ],
   "source": [
    "def select_best_half(population, fitness):\n",
    "    \n",
    "    zipped = zip(population, fitness)\n",
    "    \n",
    "    res = sorted(zipped, key = lambda x: x[1], reverse=True)\n",
    "\n",
    "    res = res[:len(res)//2]\n",
    "\n",
    "    routes_values, fitness_values = zip(*res)\n",
    "    \n",
    "    return routes_values\n",
    "\n",
    "best_half = select_best_half(initial_pop, initial_fitness)\n",
    "\n",
    "best_half"
   ]
  },
  {
   "cell_type": "markdown",
   "id": "51b27e74",
   "metadata": {},
   "source": [
    "<b>cities</b> > array containing city (x,y) coordinates for each city. Obs: city \"name\" is the array position\n",
    "<br>\n",
    "<b>initial_population</b> > array containing the routes based on population_size (ex: [4, 1, 0, 2, 3])\n",
    "<br>\n",
    "<b>initial_distances</b > array containing the distances between each point of row\n",
    "<br>\n",
    "<b>initial_fitness</b> > array containing the fitness values for each route \n",
    "<br>\n",
    "<b>best_half</b> > selects based on the fitness value the best half of the population"
   ]
  },
  {
   "cell_type": "markdown",
   "id": "89a17887",
   "metadata": {},
   "source": [
    " "
   ]
  },
  {
   "cell_type": "markdown",
   "id": "d9e79edd",
   "metadata": {},
   "source": [
    "# FIX CREATE_OFFSPRING"
   ]
  },
  {
   "cell_type": "code",
   "execution_count": 7,
   "id": "f80b4b1a",
   "metadata": {},
   "outputs": [],
   "source": [
    "def create_offsprings(population, cities=cities):\n",
    "    \n",
    "    default_list = [city_index for city_index in range(len(cities))]\n",
    "    \n",
    "    first_half = []\n",
    "    second_half = []\n",
    "    offsprings_routes = []\n",
    "    \n",
    "    for route in population:\n",
    "        first_half.append(route[:len(route)//2]) \n",
    "        \n",
    "    if len(first_half) % 2 == 1:\n",
    "        first_half.append(first_half[0])\n",
    "\n",
    "    for route in population:\n",
    "        second_half.append(route[len(route)//2:])\n",
    "        \n",
    "    if len(second_half) % 2 == 1:\n",
    "        second_half.append(second_half[0])\n",
    "        \n",
    "    counter = 0\n",
    "    while counter < (len(first_half)-1):\n",
    "        \n",
    "        # GENE 01 GUARANTEE FIRST AND LAST INDEX\n",
    "        offspring_gene_first = first_half[counter] + second_half[counter + 1]\n",
    "        offspring_gene_first[-1] = offspring_gene_first[0]        \n",
    "        \n",
    "        # GENE 02 GUARANTEE FIRST AND LAST INDEX\n",
    "        offspring_gene_second = first_half[counter + 1] + second_half[counter]\n",
    "        offspring_gene_second[-1] = offspring_gene_second[0]  \n",
    "        \n",
    "        gene_index = 0\n",
    "        for gene in offspring_gene_first:\n",
    "            \n",
    "            ogf = offspring_gene_first.copy()\n",
    "            del ogf[gene_index]\n",
    "            \n",
    "            if (gene_index < len(offspring_gene_first)//2) | (gene_index == len(offspring_gene_first)-1):\n",
    "                pass\n",
    "            else:\n",
    "                if gene in offspring_gene_first[:gene_index]:\n",
    "                    offspring_gene_first[gene_index] = random.choice([i for i in range(0, len(offspring_gene_first)-1) if i not in offspring_gene_first[:gene_index]])\n",
    "                    \n",
    "            gene_index = gene_index + 1\n",
    "        \n",
    "        \n",
    "        \n",
    "        \n",
    "        gene_index = 0\n",
    "        for gene in offspring_gene_second:\n",
    "            \n",
    "            ogf = offspring_gene_second.copy()\n",
    "            del ogf[gene_index]\n",
    "            \n",
    "            if (gene_index < len(offspring_gene_second)//2) | (gene_index == len(offspring_gene_second)-1):\n",
    "                pass\n",
    "            else:\n",
    "                if gene in offspring_gene_second[:gene_index]:\n",
    "                    offspring_gene_second[gene_index] = random.choice([i for i in range(0, len(offspring_gene_second)-1) if i not in offspring_gene_second[:gene_index]])\n",
    "                    \n",
    "            gene_index = gene_index + 1        \n",
    "\n",
    "        offsprings_routes.append(offspring_gene_first)  \n",
    "        offsprings_routes.append(offspring_gene_second)\n",
    "        \n",
    "        counter = counter + 2\n",
    "\n",
    "    return offsprings_routes\n",
    "        \n",
    "best_half_offspring = create_offsprings(population=best_half, cities=cities)"
   ]
  },
  {
   "cell_type": "code",
   "execution_count": 8,
   "id": "1ed0cc6c",
   "metadata": {},
   "outputs": [
    {
     "data": {
      "text/plain": [
       "[[5, 7, 8, 2, 6, 4, 1, 0, 9, 3, 5],\n",
       " [7, 2, 0, 3, 9, 8, 4, 1, 5, 6, 7],\n",
       " [9, 7, 8, 4, 0, 6, 5, 1, 3, 2, 9],\n",
       " [5, 7, 8, 2, 6, 3, 4, 1, 0, 9, 5]]"
      ]
     },
     "execution_count": 8,
     "metadata": {},
     "output_type": "execute_result"
    }
   ],
   "source": [
    "best_half_offspring"
   ]
  },
  {
   "cell_type": "markdown",
   "id": "75eb8bea",
   "metadata": {},
   "source": [
    "### Concat half and halfoffspring"
   ]
  },
  {
   "cell_type": "code",
   "execution_count": 9,
   "id": "7babe626",
   "metadata": {},
   "outputs": [
    {
     "data": {
      "text/plain": [
       "[[5, 7, 8, 2, 6, 0, 4, 1, 3, 9, 5],\n",
       " [7, 2, 0, 3, 9, 4, 8, 5, 1, 6, 7],\n",
       " [9, 7, 8, 4, 0, 2, 6, 3, 1, 5, 9],\n",
       " [5, 7, 8, 2, 6, 4, 1, 0, 9, 3, 5],\n",
       " [7, 2, 0, 3, 9, 8, 4, 1, 5, 6, 7],\n",
       " [9, 7, 8, 4, 0, 6, 5, 1, 3, 2, 9],\n",
       " [5, 7, 8, 2, 6, 3, 4, 1, 0, 9, 5]]"
      ]
     },
     "execution_count": 9,
     "metadata": {},
     "output_type": "execute_result"
    }
   ],
   "source": [
    "generation_n = list(best_half) + list(best_half_offspring)\n",
    "\n",
    "generation_n"
   ]
  },
  {
   "cell_type": "markdown",
   "id": "76e978be",
   "metadata": {},
   "source": [
    "### Mutation Generator"
   ]
  },
  {
   "cell_type": "code",
   "execution_count": 10,
   "id": "b28639ef",
   "metadata": {},
   "outputs": [],
   "source": [
    "def apply_mutation(generation, tx_mutation=9.5):\n",
    "    \n",
    "    generation_mutated = []\n",
    "    \n",
    "    for route in generation:\n",
    "        if random.randint(0, 1000) < tx_mutation:\n",
    "        \n",
    "            rn_1 = random.choice([i for i in range(1, len(route)-2)])\n",
    "            rn_2 = random.choice([i for i in range(1, len(route)-2) if i not in [rn_1]])\n",
    "\n",
    "            rn_1n = route[rn_2]\n",
    "            rn_2n = route[rn_1]\n",
    "\n",
    "            route[rn_1] = rn_1n\n",
    "            route[rn_2] = rn_2n\n",
    "        \n",
    "            generation_mutated.append(route)  \n",
    "        else:\n",
    "            generation_mutated.append(route)   \n",
    "            \n",
    "    return generation_mutated\n",
    "\n",
    "generation_mutated = apply_mutation(generation=generation_n, tx_mutation=9.5)"
   ]
  },
  {
   "cell_type": "code",
   "execution_count": 11,
   "id": "09740898",
   "metadata": {},
   "outputs": [
    {
     "data": {
      "text/plain": [
       "[[5, 7, 8, 2, 6, 0, 4, 1, 3, 9, 5],\n",
       " [7, 2, 0, 3, 9, 4, 8, 5, 1, 6, 7],\n",
       " [9, 7, 8, 4, 0, 2, 6, 3, 1, 5, 9],\n",
       " [5, 7, 8, 2, 6, 4, 1, 0, 9, 3, 5],\n",
       " [7, 2, 0, 3, 9, 8, 4, 1, 5, 6, 7],\n",
       " [9, 7, 8, 4, 0, 6, 5, 1, 3, 2, 9],\n",
       " [5, 7, 8, 2, 6, 3, 4, 1, 0, 9, 5]]"
      ]
     },
     "execution_count": 11,
     "metadata": {},
     "output_type": "execute_result"
    }
   ],
   "source": [
    "generation_mutated"
   ]
  },
  {
   "cell_type": "markdown",
   "id": "dc22c702",
   "metadata": {},
   "source": [
    " "
   ]
  },
  {
   "cell_type": "markdown",
   "id": "a3e5f867",
   "metadata": {},
   "source": [
    " "
   ]
  },
  {
   "cell_type": "markdown",
   "id": "fdb7f17b",
   "metadata": {},
   "source": [
    " "
   ]
  },
  {
   "cell_type": "markdown",
   "id": "252722ea",
   "metadata": {},
   "source": [
    " "
   ]
  },
  {
   "cell_type": "markdown",
   "id": "b9c9521c",
   "metadata": {},
   "source": [
    " "
   ]
  },
  {
   "cell_type": "markdown",
   "id": "8600d107",
   "metadata": {},
   "source": [
    " "
   ]
  },
  {
   "cell_type": "markdown",
   "id": "65fd0303",
   "metadata": {},
   "source": [
    " "
   ]
  },
  {
   "cell_type": "markdown",
   "id": "132e3a19",
   "metadata": {},
   "source": [
    " "
   ]
  },
  {
   "cell_type": "markdown",
   "id": "d9c8eb25",
   "metadata": {},
   "source": [
    "### Implementation"
   ]
  },
  {
   "cell_type": "code",
   "execution_count": 15,
   "id": "5c678d58",
   "metadata": {},
   "outputs": [],
   "source": [
    "def iterate_over_generations(generation_stop, initial_pop=initial_pop, cities=cities):\n",
    "    \n",
    "    generation = 0\n",
    "    fitness_array = []\n",
    "    \n",
    "    Vardistances = calculate_distances(pop_array=initial_pop, city_location = cities)\n",
    "\n",
    "    Varfitness = calculate_fitness(distance_array=Vardistances)\n",
    "\n",
    "    VarBestHalf = select_best_half(initial_pop, Varfitness)\n",
    "\n",
    "    VarBestHalfOffspring = create_offsprings(population=VarBestHalf, cities=cities)\n",
    "    \n",
    "    Generation_n = list(VarBestHalf) + list(VarBestHalfOffspring)\n",
    "\n",
    "    Generation_mutated = apply_mutation(generation=Generation_n, tx_mutation=9.5)\n",
    "    \n",
    "    # input_pop for next generations after fresh start\n",
    "    input_pop = Generation_mutated\n",
    "    \n",
    "    while generation < generation_stop:\n",
    "        \n",
    "        Vardistances = calculate_distances(pop_array=input_pop, city_location = cities)\n",
    "\n",
    "        Varfitness = calculate_fitness(distance_array=Vardistances)\n",
    "\n",
    "        VarBestHalf = select_best_half(input_pop, Varfitness)\n",
    "        \n",
    "        VarBestHalfOffspring = create_offsprings(population=VarBestHalf, cities=cities)\n",
    "\n",
    "        Generation_n = list(VarBestHalf) + list(VarBestHalfOffspring)\n",
    "\n",
    "        Generation_mutated = apply_mutation(generation=Generation_n, tx_mutation=9.5)\n",
    "\n",
    "        input_pop = Generation_mutated\n",
    "        \n",
    "        # created_fitness_array\n",
    "        Vardistances_fa = calculate_distances(pop_array=Generation_mutated, city_location = cities)\n",
    "        Varfitness_fa = calculate_fitness(distance_array=Vardistances_fa)   \n",
    "        #print(' ')\n",
    "        fitness_array.append(max(Varfitness_fa))\n",
    "        \n",
    "        # increase a generation up\n",
    "        generation = generation + 1\n",
    "        \n",
    "    return fitness_array, input_pop"
   ]
  },
  {
   "cell_type": "markdown",
   "id": "5361ac81",
   "metadata": {},
   "source": [
    "### Definição do Universo Inicial"
   ]
  },
  {
   "cell_type": "code",
   "execution_count": 62,
   "id": "388c7354",
   "metadata": {},
   "outputs": [],
   "source": [
    "numCities = 25 # Initial Number of Cities\n",
    "\n",
    "cities = CitiesGraph(numCities, \n",
    "                     minDist = 0, \n",
    "                     maxDist = 500)\n",
    "\n",
    "population_size = 100 # Initial Number of Population Size\n",
    "\n",
    "initial_pop = initial_population(cities=cities, population_size=population_size)"
   ]
  },
  {
   "cell_type": "code",
   "execution_count": 63,
   "id": "c8753701",
   "metadata": {},
   "outputs": [
    {
     "name": "stdout",
     "output_type": "stream",
     "text": [
      "CPU times: total: 906 ms\n",
      "Wall time: 6.54 s\n"
     ]
    }
   ],
   "source": [
    "%%time\n",
    "\n",
    "fitness_array, var_gen = iterate_over_generations(generation_stop=1000, initial_pop=initial_pop, cities=cities)"
   ]
  },
  {
   "cell_type": "code",
   "execution_count": 64,
   "id": "af260400",
   "metadata": {},
   "outputs": [
    {
     "data": {
      "application/vnd.plotly.v1+json": {
       "config": {
        "plotlyServerURL": "https://plot.ly"
       },
       "data": [
        {
         "hovertemplate": "generation=%{x}<br>fitness_value=%{y}<extra></extra>",
         "legendgroup": "",
         "line": {
          "color": "#636efa",
          "dash": "solid"
         },
         "marker": {
          "symbol": "circle"
         },
         "mode": "lines",
         "name": "",
         "orientation": "v",
         "showlegend": false,
         "type": "scatter",
         "x": [
          0,
          1,
          2,
          3,
          4,
          5,
          6,
          7,
          8,
          9,
          10,
          11,
          12,
          13,
          14,
          15,
          16,
          17,
          18,
          19,
          20,
          21,
          22,
          23,
          24,
          25,
          26,
          27,
          28,
          29,
          30,
          31,
          32,
          33,
          34,
          35,
          36,
          37,
          38,
          39,
          40,
          41,
          42,
          43,
          44,
          45,
          46,
          47,
          48,
          49,
          50,
          51,
          52,
          53,
          54,
          55,
          56,
          57,
          58,
          59,
          60,
          61,
          62,
          63,
          64,
          65,
          66,
          67,
          68,
          69,
          70,
          71,
          72,
          73,
          74,
          75,
          76,
          77,
          78,
          79,
          80,
          81,
          82,
          83,
          84,
          85,
          86,
          87,
          88,
          89,
          90,
          91,
          92,
          93,
          94,
          95,
          96,
          97,
          98,
          99,
          100,
          101,
          102,
          103,
          104,
          105,
          106,
          107,
          108,
          109,
          110,
          111,
          112,
          113,
          114,
          115,
          116,
          117,
          118,
          119,
          120,
          121,
          122,
          123,
          124,
          125,
          126,
          127,
          128,
          129,
          130,
          131,
          132,
          133,
          134,
          135,
          136,
          137,
          138,
          139,
          140,
          141,
          142,
          143,
          144,
          145,
          146,
          147,
          148,
          149,
          150,
          151,
          152,
          153,
          154,
          155,
          156,
          157,
          158,
          159,
          160,
          161,
          162,
          163,
          164,
          165,
          166,
          167,
          168,
          169,
          170,
          171,
          172,
          173,
          174,
          175,
          176,
          177,
          178,
          179,
          180,
          181,
          182,
          183,
          184,
          185,
          186,
          187,
          188,
          189,
          190,
          191,
          192,
          193,
          194,
          195,
          196,
          197,
          198,
          199,
          200,
          201,
          202,
          203,
          204,
          205,
          206,
          207,
          208,
          209,
          210,
          211,
          212,
          213,
          214,
          215,
          216,
          217,
          218,
          219,
          220,
          221,
          222,
          223,
          224,
          225,
          226,
          227,
          228,
          229,
          230,
          231,
          232,
          233,
          234,
          235,
          236,
          237,
          238,
          239,
          240,
          241,
          242,
          243,
          244,
          245,
          246,
          247,
          248,
          249,
          250,
          251,
          252,
          253,
          254,
          255,
          256,
          257,
          258,
          259,
          260,
          261,
          262,
          263,
          264,
          265,
          266,
          267,
          268,
          269,
          270,
          271,
          272,
          273,
          274,
          275,
          276,
          277,
          278,
          279,
          280,
          281,
          282,
          283,
          284,
          285,
          286,
          287,
          288,
          289,
          290,
          291,
          292,
          293,
          294,
          295,
          296,
          297,
          298,
          299,
          300,
          301,
          302,
          303,
          304,
          305,
          306,
          307,
          308,
          309,
          310,
          311,
          312,
          313,
          314,
          315,
          316,
          317,
          318,
          319,
          320,
          321,
          322,
          323,
          324,
          325,
          326,
          327,
          328,
          329,
          330,
          331,
          332,
          333,
          334,
          335,
          336,
          337,
          338,
          339,
          340,
          341,
          342,
          343,
          344,
          345,
          346,
          347,
          348,
          349,
          350,
          351,
          352,
          353,
          354,
          355,
          356,
          357,
          358,
          359,
          360,
          361,
          362,
          363,
          364,
          365,
          366,
          367,
          368,
          369,
          370,
          371,
          372,
          373,
          374,
          375,
          376,
          377,
          378,
          379,
          380,
          381,
          382,
          383,
          384,
          385,
          386,
          387,
          388,
          389,
          390,
          391,
          392,
          393,
          394,
          395,
          396,
          397,
          398,
          399,
          400,
          401,
          402,
          403,
          404,
          405,
          406,
          407,
          408,
          409,
          410,
          411,
          412,
          413,
          414,
          415,
          416,
          417,
          418,
          419,
          420,
          421,
          422,
          423,
          424,
          425,
          426,
          427,
          428,
          429,
          430,
          431,
          432,
          433,
          434,
          435,
          436,
          437,
          438,
          439,
          440,
          441,
          442,
          443,
          444,
          445,
          446,
          447,
          448,
          449,
          450,
          451,
          452,
          453,
          454,
          455,
          456,
          457,
          458,
          459,
          460,
          461,
          462,
          463,
          464,
          465,
          466,
          467,
          468,
          469,
          470,
          471,
          472,
          473,
          474,
          475,
          476,
          477,
          478,
          479,
          480,
          481,
          482,
          483,
          484,
          485,
          486,
          487,
          488,
          489,
          490,
          491,
          492,
          493,
          494,
          495,
          496,
          497,
          498,
          499,
          500,
          501,
          502,
          503,
          504,
          505,
          506,
          507,
          508,
          509,
          510,
          511,
          512,
          513,
          514,
          515,
          516,
          517,
          518,
          519,
          520,
          521,
          522,
          523,
          524,
          525,
          526,
          527,
          528,
          529,
          530,
          531,
          532,
          533,
          534,
          535,
          536,
          537,
          538,
          539,
          540,
          541,
          542,
          543,
          544,
          545,
          546,
          547,
          548,
          549,
          550,
          551,
          552,
          553,
          554,
          555,
          556,
          557,
          558,
          559,
          560,
          561,
          562,
          563,
          564,
          565,
          566,
          567,
          568,
          569,
          570,
          571,
          572,
          573,
          574,
          575,
          576,
          577,
          578,
          579,
          580,
          581,
          582,
          583,
          584,
          585,
          586,
          587,
          588,
          589,
          590,
          591,
          592,
          593,
          594,
          595,
          596,
          597,
          598,
          599,
          600,
          601,
          602,
          603,
          604,
          605,
          606,
          607,
          608,
          609,
          610,
          611,
          612,
          613,
          614,
          615,
          616,
          617,
          618,
          619,
          620,
          621,
          622,
          623,
          624,
          625,
          626,
          627,
          628,
          629,
          630,
          631,
          632,
          633,
          634,
          635,
          636,
          637,
          638,
          639,
          640,
          641,
          642,
          643,
          644,
          645,
          646,
          647,
          648,
          649,
          650,
          651,
          652,
          653,
          654,
          655,
          656,
          657,
          658,
          659,
          660,
          661,
          662,
          663,
          664,
          665,
          666,
          667,
          668,
          669,
          670,
          671,
          672,
          673,
          674,
          675,
          676,
          677,
          678,
          679,
          680,
          681,
          682,
          683,
          684,
          685,
          686,
          687,
          688,
          689,
          690,
          691,
          692,
          693,
          694,
          695,
          696,
          697,
          698,
          699,
          700,
          701,
          702,
          703,
          704,
          705,
          706,
          707,
          708,
          709,
          710,
          711,
          712,
          713,
          714,
          715,
          716,
          717,
          718,
          719,
          720,
          721,
          722,
          723,
          724,
          725,
          726,
          727,
          728,
          729,
          730,
          731,
          732,
          733,
          734,
          735,
          736,
          737,
          738,
          739,
          740,
          741,
          742,
          743,
          744,
          745,
          746,
          747,
          748,
          749,
          750,
          751,
          752,
          753,
          754,
          755,
          756,
          757,
          758,
          759,
          760,
          761,
          762,
          763,
          764,
          765,
          766,
          767,
          768,
          769,
          770,
          771,
          772,
          773,
          774,
          775,
          776,
          777,
          778,
          779,
          780,
          781,
          782,
          783,
          784,
          785,
          786,
          787,
          788,
          789,
          790,
          791,
          792,
          793,
          794,
          795,
          796,
          797,
          798,
          799,
          800,
          801,
          802,
          803,
          804,
          805,
          806,
          807,
          808,
          809,
          810,
          811,
          812,
          813,
          814,
          815,
          816,
          817,
          818,
          819,
          820,
          821,
          822,
          823,
          824,
          825,
          826,
          827,
          828,
          829,
          830,
          831,
          832,
          833,
          834,
          835,
          836,
          837,
          838,
          839,
          840,
          841,
          842,
          843,
          844,
          845,
          846,
          847,
          848,
          849,
          850,
          851,
          852,
          853,
          854,
          855,
          856,
          857,
          858,
          859,
          860,
          861,
          862,
          863,
          864,
          865,
          866,
          867,
          868,
          869,
          870,
          871,
          872,
          873,
          874,
          875,
          876,
          877,
          878,
          879,
          880,
          881,
          882,
          883,
          884,
          885,
          886,
          887,
          888,
          889,
          890,
          891,
          892,
          893,
          894,
          895,
          896,
          897,
          898,
          899,
          900,
          901,
          902,
          903,
          904,
          905,
          906,
          907,
          908,
          909,
          910,
          911,
          912,
          913,
          914,
          915,
          916,
          917,
          918,
          919,
          920,
          921,
          922,
          923,
          924,
          925,
          926,
          927,
          928,
          929,
          930,
          931,
          932,
          933,
          934,
          935,
          936,
          937,
          938,
          939,
          940,
          941,
          942,
          943,
          944,
          945,
          946,
          947,
          948,
          949,
          950,
          951,
          952,
          953,
          954,
          955,
          956,
          957,
          958,
          959,
          960,
          961,
          962,
          963,
          964,
          965,
          966,
          967,
          968,
          969,
          970,
          971,
          972,
          973,
          974,
          975,
          976,
          977,
          978,
          979,
          980,
          981,
          982,
          983,
          984,
          985,
          986,
          987,
          988,
          989,
          990,
          991,
          992,
          993,
          994,
          995,
          996,
          997,
          998,
          999
         ],
         "xaxis": "x",
         "y": [
          0.0002190350679394267,
          0.0002190350679394267,
          0.00023590804598931116,
          0.00023590804598931116,
          0.00023590804598931116,
          0.00023590804598931116,
          0.00023590804598931116,
          0.00023590804598931116,
          0.00023590804598931116,
          0.00023590804598931116,
          0.00023590804598931116,
          0.0002363214074369294,
          0.0002363214074369294,
          0.0002363214074369294,
          0.0002363214074369294,
          0.0002363214074369294,
          0.0002363214074369294,
          0.0002363214074369294,
          0.0002363214074369294,
          0.0002363214074369294,
          0.0002363214074369294,
          0.0002363214074369294,
          0.0002363214074369294,
          0.0002363214074369294,
          0.0002363214074369294,
          0.0002363214074369294,
          0.0002363214074369294,
          0.0002363214074369294,
          0.0002363214074369294,
          0.0002363214074369294,
          0.0002363214074369294,
          0.0002363214074369294,
          0.0002363214074369294,
          0.0002363214074369294,
          0.0002363214074369294,
          0.0002363214074369294,
          0.0002363214074369294,
          0.0002363214074369294,
          0.0002363214074369294,
          0.0002363214074369294,
          0.0002363214074369294,
          0.0002363214074369294,
          0.00024595813267908333,
          0.00024595813267908333,
          0.00024595813267908333,
          0.00024595813267908333,
          0.00024595813267908333,
          0.00024595813267908333,
          0.00024595813267908333,
          0.00024595813267908333,
          0.00024595813267908333,
          0.00024595813267908333,
          0.00024595813267908333,
          0.00024595813267908333,
          0.00024595813267908333,
          0.000246742521022679,
          0.000246742521022679,
          0.000246742521022679,
          0.000246742521022679,
          0.000246742521022679,
          0.000246742521022679,
          0.000246742521022679,
          0.000246742521022679,
          0.0002679043110704334,
          0.0002679043110704334,
          0.0002679043110704334,
          0.0002679043110704334,
          0.0002679043110704334,
          0.0002679043110704334,
          0.0002679043110704334,
          0.0002679043110704334,
          0.0002679043110704334,
          0.0002679043110704334,
          0.0002679043110704334,
          0.0002679043110704334,
          0.0002679043110704334,
          0.0002679043110704334,
          0.0002679043110704334,
          0.0002679043110704334,
          0.0002679043110704334,
          0.0002679043110704334,
          0.0002679043110704334,
          0.0002679043110704334,
          0.0002679043110704334,
          0.0002679043110704334,
          0.0002679043110704334,
          0.0002679043110704334,
          0.0002783889303759882,
          0.0002783889303759882,
          0.0002783889303759882,
          0.0002783889303759882,
          0.0002783889303759882,
          0.0002783889303759882,
          0.0002783889303759882,
          0.0002783889303759882,
          0.0002783889303759882,
          0.0002783889303759882,
          0.0002783889303759882,
          0.0002783889303759882,
          0.0002783889303759882,
          0.0002783889303759882,
          0.0002783889303759882,
          0.0002783889303759882,
          0.0002783889303759882,
          0.0002783889303759882,
          0.0002783889303759882,
          0.0002783889303759882,
          0.0002783889303759882,
          0.0002783889303759882,
          0.0002783889303759882,
          0.0002783889303759882,
          0.0002783889303759882,
          0.0002783889303759882,
          0.0002783889303759882,
          0.0002783889303759882,
          0.0002783889303759882,
          0.0002783889303759882,
          0.0002783889303759882,
          0.0002783889303759882,
          0.00027948621629413615,
          0.00027948621629413615,
          0.00027948621629413615,
          0.00027948621629413615,
          0.00027948621629413615,
          0.00027948621629413615,
          0.00027948621629413615,
          0.00027948621629413615,
          0.000280861900989707,
          0.000280861900989707,
          0.000280861900989707,
          0.000280861900989707,
          0.000280861900989707,
          0.000280861900989707,
          0.00029592331049719465,
          0.00029592331049719465,
          0.00029592331049719465,
          0.00029592331049719465,
          0.00029592331049719465,
          0.00029592331049719465,
          0.00029592331049719465,
          0.00029592331049719465,
          0.00029592331049719465,
          0.00029592331049719465,
          0.00029592331049719465,
          0.00029592331049719465,
          0.00029592331049719465,
          0.00029592331049719465,
          0.00029592331049719465,
          0.00029592331049719465,
          0.0003008875351842305,
          0.0003008875351842305,
          0.0003008875351842305,
          0.0003008875351842305,
          0.0003008875351842305,
          0.0003008875351842305,
          0.0003008875351842305,
          0.0003008875351842305,
          0.0003008875351842305,
          0.0003008875351842305,
          0.0003008875351842305,
          0.0003008875351842305,
          0.0003008875351842305,
          0.0003008875351842305,
          0.0003008875351842305,
          0.0003008875351842305,
          0.0003008875351842305,
          0.0003008875351842305,
          0.0003008875351842305,
          0.0003008875351842305,
          0.0003008875351842305,
          0.0003008875351842305,
          0.0003008875351842305,
          0.0003008875351842305,
          0.0003008875351842305,
          0.0003008875351842305,
          0.0003008875351842305,
          0.0003008875351842305,
          0.0003008875351842305,
          0.0003008875351842305,
          0.0003008875351842305,
          0.0003008875351842305,
          0.0003008875351842305,
          0.0003008875351842305,
          0.0003008875351842305,
          0.0003008875351842305,
          0.0003037554170394035,
          0.0003037554170394035,
          0.0003037554170394035,
          0.0003037554170394035,
          0.0003037554170394035,
          0.0003037554170394035,
          0.0003037554170394035,
          0.0003037554170394035,
          0.0003037554170394035,
          0.0003037554170394035,
          0.0003037554170394035,
          0.0003037554170394035,
          0.0003037554170394035,
          0.0003037554170394035,
          0.0003088512714133248,
          0.0003088512714133248,
          0.0003088512714133248,
          0.0003088512714133248,
          0.0003088512714133248,
          0.0003088512714133248,
          0.0003088512714133248,
          0.0003088512714133248,
          0.0003088512714133248,
          0.0003088512714133248,
          0.0003088512714133248,
          0.0003088512714133248,
          0.0003088512714133248,
          0.0003088512714133248,
          0.0003088512714133248,
          0.0003088512714133248,
          0.0003088512714133248,
          0.0003088512714133248,
          0.0003088512714133248,
          0.0003088512714133248,
          0.0003088512714133248,
          0.0003088512714133248,
          0.0003088512714133248,
          0.0003088512714133248,
          0.0003107401384543591,
          0.0003107401384543591,
          0.0003107401384543591,
          0.0003107401384543591,
          0.0003107401384543591,
          0.0003107401384543591,
          0.0003107401384543591,
          0.0003107401384543591,
          0.0003107401384543591,
          0.0003107401384543591,
          0.0003107401384543591,
          0.0003107401384543591,
          0.0003107401384543591,
          0.0003107401384543591,
          0.0003107401384543591,
          0.0003107401384543591,
          0.00033749608314912334,
          0.00033749608314912334,
          0.00033749608314912334,
          0.00033749608314912334,
          0.00033749608314912334,
          0.00033749608314912334,
          0.00033749608314912334,
          0.00033749608314912334,
          0.00033749608314912334,
          0.00033749608314912334,
          0.00033749608314912334,
          0.00033749608314912334,
          0.00033749608314912334,
          0.00033749608314912334,
          0.00033749608314912334,
          0.00033749608314912334,
          0.00033749608314912334,
          0.00033749608314912334,
          0.00033749608314912334,
          0.00033749608314912334,
          0.00033749608314912334,
          0.00033749608314912334,
          0.00033749608314912334,
          0.00033749608314912334,
          0.00033749608314912334,
          0.00033749608314912334,
          0.00033749608314912334,
          0.00033749608314912334,
          0.00033749608314912334,
          0.00033749608314912334,
          0.00033749608314912334,
          0.000338669621814125,
          0.000338669621814125,
          0.000338669621814125,
          0.000338669621814125,
          0.000338669621814125,
          0.000338669621814125,
          0.000338669621814125,
          0.000338669621814125,
          0.000338669621814125,
          0.00034480952342374587,
          0.00034480952342374587,
          0.00034480952342374587,
          0.00034480952342374587,
          0.00034480952342374587,
          0.00034480952342374587,
          0.00034480952342374587,
          0.00034480952342374587,
          0.00034480952342374587,
          0.00034480952342374587,
          0.00034480952342374587,
          0.00034480952342374587,
          0.00034480952342374587,
          0.00034480952342374587,
          0.00034480952342374587,
          0.00034480952342374587,
          0.00034480952342374587,
          0.0003468725957418388,
          0.0003468725957418388,
          0.0003468725957418388,
          0.0003468725957418388,
          0.0003468725957418388,
          0.0003468725957418388,
          0.0003468725957418388,
          0.0003468725957418388,
          0.0003468725957418388,
          0.0003468725957418388,
          0.0003468725957418388,
          0.0003468725957418388,
          0.00035556706009843463,
          0.00035556706009843463,
          0.00035556706009843463,
          0.00035556706009843463,
          0.00035556706009843463,
          0.00035556706009843463,
          0.00035556706009843463,
          0.00035556706009843463,
          0.00035556706009843463,
          0.00035556706009843463,
          0.00035556706009843463,
          0.00035556706009843463,
          0.00035556706009843463,
          0.00035556706009843463,
          0.00035556706009843463,
          0.00035556706009843463,
          0.00035556706009843463,
          0.00035556706009843463,
          0.00035556706009843463,
          0.00035556706009843463,
          0.00035556706009843463,
          0.00035556706009843463,
          0.00035556706009843463,
          0.00035556706009843463,
          0.00035556706009843463,
          0.00035556706009843463,
          0.00035556706009843463,
          0.00035556706009843463,
          0.00035556706009843463,
          0.00035556706009843463,
          0.00035556706009843463,
          0.00035556706009843463,
          0.00035556706009843463,
          0.00035556706009843463,
          0.00035556706009843463,
          0.00035556706009843463,
          0.00035556706009843463,
          0.00035556706009843463,
          0.00035556706009843463,
          0.00035556706009843463,
          0.00035556706009843463,
          0.00035556706009843463,
          0.00035556706009843463,
          0.00035556706009843463,
          0.00035556706009843463,
          0.00035556706009843463,
          0.00035556706009843463,
          0.00035556706009843463,
          0.00035556706009843463,
          0.00035556706009843463,
          0.00035556706009843463,
          0.00035556706009843463,
          0.00035556706009843463,
          0.00035556706009843463,
          0.00035556706009843463,
          0.00035556706009843463,
          0.00035850018818652684,
          0.00035850018818652684,
          0.00035850018818652684,
          0.00035850018818652684,
          0.00035850018818652684,
          0.00035850018818652684,
          0.00035850018818652684,
          0.00035850018818652684,
          0.00035850018818652684,
          0.00035850018818652684,
          0.00035850018818652684,
          0.00035850018818652684,
          0.00035850018818652684,
          0.00035850018818652684,
          0.00035850018818652684,
          0.00035850018818652684,
          0.00035850018818652684,
          0.00035850018818652684,
          0.00035850018818652684,
          0.00035850018818652684,
          0.00035850018818652684,
          0.00035850018818652684,
          0.00035850018818652684,
          0.00035850018818652684,
          0.00035850018818652684,
          0.00035850018818652684,
          0.00035850018818652684,
          0.00035850018818652684,
          0.00035850018818652684,
          0.00035850018818652684,
          0.00035850018818652684,
          0.00035850018818652684,
          0.00035850018818652684,
          0.00035850018818652684,
          0.00035850018818652684,
          0.00035850018818652684,
          0.00035850018818652684,
          0.00035850018818652684,
          0.00035850018818652684,
          0.00035850018818652684,
          0.00035850018818652684,
          0.00035850018818652684,
          0.00035850018818652684,
          0.00035850018818652684,
          0.00035850018818652684,
          0.00035850018818652684,
          0.00035850018818652684,
          0.00035850018818652684,
          0.00035850018818652684,
          0.00035850018818652684,
          0.00035850018818652684,
          0.00035850018818652684,
          0.00035850018818652684,
          0.00035850018818652684,
          0.00035850018818652684,
          0.00035850018818652684,
          0.00035850018818652684,
          0.00035850018818652684,
          0.00035850018818652684,
          0.00035850018818652684,
          0.00035850018818652684,
          0.00035850018818652684,
          0.00035850018818652684,
          0.00035850018818652684,
          0.00035850018818652684,
          0.00035850018818652684,
          0.00035850018818652684,
          0.00035850018818652684,
          0.00035850018818652684,
          0.00035850018818652684,
          0.00035850018818652684,
          0.00035850018818652684,
          0.00035850018818652684,
          0.00035850018818652684,
          0.00035850018818652684,
          0.00035850018818652684,
          0.00035850018818652684,
          0.00035850018818652684,
          0.00035850018818652684,
          0.00035850018818652684,
          0.00035850018818652684,
          0.00035850018818652684,
          0.00035850018818652684,
          0.00035850018818652684,
          0.00035850018818652684,
          0.00035850018818652684,
          0.00035850018818652684,
          0.00035850018818652684,
          0.00035850018818652684,
          0.00035850018818652684,
          0.00035850018818652684,
          0.00035850018818652684,
          0.00035850018818652684,
          0.00035850018818652684,
          0.00035850018818652684,
          0.00035850018818652684,
          0.00035850018818652684,
          0.00035850018818652684,
          0.00035850018818652684,
          0.00035850018818652684,
          0.00035850018818652684,
          0.00035850018818652684,
          0.00035850018818652684,
          0.00035850018818652684,
          0.00035850018818652684,
          0.00035850018818652684,
          0.00035850018818652684,
          0.00035850018818652684,
          0.00035850018818652684,
          0.00035850018818652684,
          0.00035850018818652684,
          0.00035850018818652684,
          0.00035850018818652684,
          0.00035850018818652684,
          0.00035850018818652684,
          0.00035850018818652684,
          0.00035850018818652684,
          0.00035850018818652684,
          0.00035850018818652684,
          0.00035850018818652684,
          0.00035850018818652684,
          0.00035850018818652684,
          0.00035850018818652684,
          0.00035850018818652684,
          0.00035850018818652684,
          0.00035850018818652684,
          0.00035850018818652684,
          0.00035850018818652684,
          0.00035850018818652684,
          0.00035850018818652684,
          0.00035850018818652684,
          0.00035850018818652684,
          0.00035850018818652684,
          0.00035850018818652684,
          0.00035850018818652684,
          0.00035850018818652684,
          0.00035850018818652684,
          0.00035850018818652684,
          0.00035850018818652684,
          0.00035850018818652684,
          0.00035850018818652684,
          0.00035850018818652684,
          0.00035850018818652684,
          0.00035850018818652684,
          0.00035850018818652684,
          0.00035850018818652684,
          0.00035850018818652684,
          0.00035850018818652684,
          0.00035850018818652684,
          0.00035850018818652684,
          0.00035850018818652684,
          0.00035850018818652684,
          0.00035850018818652684,
          0.00035850018818652684,
          0.00035850018818652684,
          0.00035850018818652684,
          0.00035850018818652684,
          0.00035850018818652684,
          0.00035850018818652684,
          0.00035850018818652684,
          0.00035850018818652684,
          0.00035850018818652684,
          0.00035850018818652684,
          0.00035850018818652684,
          0.00035850018818652684,
          0.00035850018818652684,
          0.00035850018818652684,
          0.00035850018818652684,
          0.00035850018818652684,
          0.00035850018818652684,
          0.00035850018818652684,
          0.00035850018818652684,
          0.00035850018818652684,
          0.00035850018818652684,
          0.00035850018818652684,
          0.00035850018818652684,
          0.00035850018818652684,
          0.00035850018818652684,
          0.00035850018818652684,
          0.00035850018818652684,
          0.00035850018818652684,
          0.00035850018818652684,
          0.00035850018818652684,
          0.00035850018818652684,
          0.00035850018818652684,
          0.00035850018818652684,
          0.00035850018818652684,
          0.00035850018818652684,
          0.00035850018818652684,
          0.00035850018818652684,
          0.00035850018818652684,
          0.00035850018818652684,
          0.00035850018818652684,
          0.00035850018818652684,
          0.00035850018818652684,
          0.00035850018818652684,
          0.00035850018818652684,
          0.00035850018818652684,
          0.00035850018818652684,
          0.00035850018818652684,
          0.00035850018818652684,
          0.00035850018818652684,
          0.00035850018818652684,
          0.00035850018818652684,
          0.00035850018818652684,
          0.00035850018818652684,
          0.00035850018818652684,
          0.00035850018818652684,
          0.00035850018818652684,
          0.00035850018818652684,
          0.00035850018818652684,
          0.00035850018818652684,
          0.00035850018818652684,
          0.00035850018818652684,
          0.00035850018818652684,
          0.00035850018818652684,
          0.00035850018818652684,
          0.00035850018818652684,
          0.00035850018818652684,
          0.00035850018818652684,
          0.00035850018818652684,
          0.00035850018818652684,
          0.00035850018818652684,
          0.00035850018818652684,
          0.00035850018818652684,
          0.00035850018818652684,
          0.00035850018818652684,
          0.00035850018818652684,
          0.00035850018818652684,
          0.00035850018818652684,
          0.00035850018818652684,
          0.00035850018818652684,
          0.00035850018818652684,
          0.00035850018818652684,
          0.00035850018818652684,
          0.00035850018818652684,
          0.00035850018818652684,
          0.00035850018818652684,
          0.00035850018818652684,
          0.00035850018818652684,
          0.00035850018818652684,
          0.00035850018818652684,
          0.00035850018818652684,
          0.00035850018818652684,
          0.00035850018818652684,
          0.00035850018818652684,
          0.00035850018818652684,
          0.00035850018818652684,
          0.00036427174656276305,
          0.0003766102557957533,
          0.0003766102557957533,
          0.0003766102557957533,
          0.0003766102557957533,
          0.0003766102557957533,
          0.0003766102557957533,
          0.0003766102557957533,
          0.0003766102557957533,
          0.0003766102557957533,
          0.0003766102557957533,
          0.0003766102557957533,
          0.0003766102557957533,
          0.0003766102557957533,
          0.0003766102557957533,
          0.0003766102557957533,
          0.0003766102557957533,
          0.0003766102557957533,
          0.0003766102557957533,
          0.0003766102557957533,
          0.0003766102557957533,
          0.0003766102557957533,
          0.0003766102557957533,
          0.0003766102557957533,
          0.0003766102557957533,
          0.0003766102557957533,
          0.0003766102557957533,
          0.0003766102557957533,
          0.0003766102557957533,
          0.0003766102557957533,
          0.0003766102557957533,
          0.0003766102557957533,
          0.0003766102557957533,
          0.0003766102557957533,
          0.0003766102557957533,
          0.0003766102557957533,
          0.0003766102557957533,
          0.0003766102557957533,
          0.0003766102557957533,
          0.0003766102557957533,
          0.0003766102557957533,
          0.0003766102557957533,
          0.0003766102557957533,
          0.0003766102557957533,
          0.0003766102557957533,
          0.0003766102557957533,
          0.0003766102557957533,
          0.0003766102557957533,
          0.0003766102557957533,
          0.0003766102557957533,
          0.0003766102557957533,
          0.0003766102557957533,
          0.0003766102557957533,
          0.0003766102557957533,
          0.00038206538094281615,
          0.00038206538094281615,
          0.00038206538094281615,
          0.00038206538094281615,
          0.00038206538094281615,
          0.00038206538094281615,
          0.00038206538094281615,
          0.00038206538094281615,
          0.00038206538094281615,
          0.00038206538094281615,
          0.00038206538094281615,
          0.00038206538094281615,
          0.00038206538094281615,
          0.00038206538094281615,
          0.00038206538094281615,
          0.00038206538094281615,
          0.00038206538094281615,
          0.00038206538094281615,
          0.00038206538094281615,
          0.00038206538094281615,
          0.00038206538094281615,
          0.00038206538094281615,
          0.00038206538094281615,
          0.00038206538094281615,
          0.00038206538094281615,
          0.00038206538094281615,
          0.00038206538094281615,
          0.00038206538094281615,
          0.00038206538094281615,
          0.00038206538094281615,
          0.00038206538094281615,
          0.00038206538094281615,
          0.00038206538094281615,
          0.00038206538094281615,
          0.00038206538094281615,
          0.00038206538094281615,
          0.00038206538094281615,
          0.00038206538094281615,
          0.00038206538094281615,
          0.00038206538094281615,
          0.00038206538094281615,
          0.00038206538094281615,
          0.00038206538094281615,
          0.00038206538094281615,
          0.00038206538094281615,
          0.00038206538094281615,
          0.00038206538094281615,
          0.00038206538094281615,
          0.00038206538094281615,
          0.00038206538094281615,
          0.00038206538094281615,
          0.00038206538094281615,
          0.00038206538094281615,
          0.00038206538094281615,
          0.00038206538094281615,
          0.00038206538094281615,
          0.00038206538094281615,
          0.00038206538094281615,
          0.00038206538094281615,
          0.00038206538094281615,
          0.00038206538094281615,
          0.00038206538094281615,
          0.00038206538094281615,
          0.00038206538094281615,
          0.00038206538094281615,
          0.00038206538094281615,
          0.00038206538094281615,
          0.00038206538094281615,
          0.00038206538094281615,
          0.00038206538094281615,
          0.00038206538094281615,
          0.00038206538094281615,
          0.00038206538094281615,
          0.00038206538094281615,
          0.00038206538094281615,
          0.00038206538094281615,
          0.0003949767643967157,
          0.0003949767643967157,
          0.0003949767643967157,
          0.0003949767643967157,
          0.0003949767643967157,
          0.0003949767643967157,
          0.0003949767643967157,
          0.0003949767643967157,
          0.0003949767643967157,
          0.0003949767643967157,
          0.0003949767643967157,
          0.0003949767643967157,
          0.0003949767643967157,
          0.0003949767643967157,
          0.0003949767643967157,
          0.0003949767643967157,
          0.0003949767643967157,
          0.0003949767643967157,
          0.0003949767643967157,
          0.0003949767643967157,
          0.0003949767643967157,
          0.0003949767643967157,
          0.0003949767643967157,
          0.0003949767643967157,
          0.0003949767643967157,
          0.0003949767643967157,
          0.0003949767643967157,
          0.0003949767643967157,
          0.0003949767643967157,
          0.0003949767643967157,
          0.0003949767643967157,
          0.0003949767643967157,
          0.0003949767643967157,
          0.0003949767643967157,
          0.0003949767643967157,
          0.0003949767643967157,
          0.0003949767643967157,
          0.0003949767643967157,
          0.0003949767643967157,
          0.0003949767643967157,
          0.0003949767643967157,
          0.0003949767643967157,
          0.0003949767643967157,
          0.0003949767643967157,
          0.0003949767643967157,
          0.0003949767643967157,
          0.0003949767643967157,
          0.0003949767643967157,
          0.0003949767643967157,
          0.0003949767643967157,
          0.0003949767643967157,
          0.0003949767643967157,
          0.0003949767643967157,
          0.0003949767643967157,
          0.0003949767643967157,
          0.0003949767643967157,
          0.0003949767643967157,
          0.0003949767643967157,
          0.0003949767643967157,
          0.0003949767643967157,
          0.0003949767643967157,
          0.0003949767643967157,
          0.0003949767643967157,
          0.0003949767643967157,
          0.0003949767643967157,
          0.0003949767643967157,
          0.0003949767643967157,
          0.0003949767643967157,
          0.0003949767643967157,
          0.0003949767643967157,
          0.0003949767643967157,
          0.0003949767643967157,
          0.0003949767643967157,
          0.0003949767643967157,
          0.0003949767643967157,
          0.0003949767643967157,
          0.0003949767643967157,
          0.0003949767643967157,
          0.0003949767643967157,
          0.0003949767643967157,
          0.0003949767643967157,
          0.0003949767643967157,
          0.0003949767643967157,
          0.0003949767643967157,
          0.0003949767643967157,
          0.0003949767643967157,
          0.0003949767643967157,
          0.0003949767643967157,
          0.0003949767643967157,
          0.0003949767643967157,
          0.0003949767643967157,
          0.0003949767643967157,
          0.0003949767643967157,
          0.0003949767643967157,
          0.0003949767643967157,
          0.0003949767643967157,
          0.0003949767643967157,
          0.0003949767643967157,
          0.0003949767643967157,
          0.0003949767643967157,
          0.0003949767643967157,
          0.0003949767643967157,
          0.0003949767643967157,
          0.0003949767643967157,
          0.0003949767643967157,
          0.0003949767643967157,
          0.0003949767643967157,
          0.0003949767643967157,
          0.0003949767643967157,
          0.0003949767643967157,
          0.0003949767643967157,
          0.0003949767643967157,
          0.0003949767643967157,
          0.0003949767643967157,
          0.0003949767643967157,
          0.0003949767643967157,
          0.0003949767643967157,
          0.0003949767643967157,
          0.0003949767643967157,
          0.0003949767643967157,
          0.0003949767643967157,
          0.0003949767643967157,
          0.0003949767643967157,
          0.0003949767643967157,
          0.0003949767643967157,
          0.0003949767643967157,
          0.0003949767643967157,
          0.0003949767643967157,
          0.0003949767643967157,
          0.0003949767643967157,
          0.0003949767643967157,
          0.0003949767643967157,
          0.0003949767643967157,
          0.0003949767643967157,
          0.0003949767643967157,
          0.0003949767643967157,
          0.0003949767643967157,
          0.0003949767643967157,
          0.0003949767643967157,
          0.0003949767643967157,
          0.0003949767643967157,
          0.0003949767643967157,
          0.0003949767643967157,
          0.0003949767643967157,
          0.0003949767643967157,
          0.0003949767643967157,
          0.0003949767643967157,
          0.0003949767643967157,
          0.0003949767643967157,
          0.0003949767643967157,
          0.0003949767643967157,
          0.0003949767643967157,
          0.0003949767643967157,
          0.0003949767643967157,
          0.0003949767643967157,
          0.0003949767643967157,
          0.0003949767643967157,
          0.0003949767643967157,
          0.0003949767643967157,
          0.0003949767643967157,
          0.0003949767643967157,
          0.0003949767643967157,
          0.0003949767643967157,
          0.0003949767643967157,
          0.0003949767643967157,
          0.0003949767643967157,
          0.0003949767643967157,
          0.0003949767643967157,
          0.0003949767643967157,
          0.0003949767643967157,
          0.0003949767643967157,
          0.0003949767643967157,
          0.0003949767643967157,
          0.0003949767643967157,
          0.0003949767643967157,
          0.0003949767643967157,
          0.0003949767643967157,
          0.0003949767643967157,
          0.0003949767643967157,
          0.0003949767643967157,
          0.0003949767643967157,
          0.0003949767643967157,
          0.0003949767643967157,
          0.0003949767643967157,
          0.0003949767643967157,
          0.0003949767643967157,
          0.0003949767643967157,
          0.0003949767643967157,
          0.0003949767643967157,
          0.0003949767643967157,
          0.0003949767643967157,
          0.0003949767643967157,
          0.0003949767643967157,
          0.0003949767643967157,
          0.0003949767643967157,
          0.0003949767643967157,
          0.0003949767643967157,
          0.0003949767643967157,
          0.0003949767643967157,
          0.0003949767643967157,
          0.0003949767643967157,
          0.0003949767643967157,
          0.0003949767643967157,
          0.0003949767643967157,
          0.0003949767643967157,
          0.0003949767643967157,
          0.0003949767643967157,
          0.0003949767643967157,
          0.0003949767643967157,
          0.0003949767643967157,
          0.0003949767643967157,
          0.0003949767643967157,
          0.0003949767643967157,
          0.0003949767643967157,
          0.0003949767643967157,
          0.0003949767643967157,
          0.0003949767643967157,
          0.0003949767643967157,
          0.0003949767643967157,
          0.0003949767643967157,
          0.0003949767643967157,
          0.0003949767643967157,
          0.0003949767643967157,
          0.0003949767643967157,
          0.0003949767643967157,
          0.0003949767643967157,
          0.0003949767643967157,
          0.0003949767643967157,
          0.0003949767643967157,
          0.0003949767643967157,
          0.0003949767643967157,
          0.0003949767643967157,
          0.0003949767643967157,
          0.0003949767643967157,
          0.0003949767643967157,
          0.0003949767643967157,
          0.0003949767643967157,
          0.0003949767643967157,
          0.0003949767643967157,
          0.0003949767643967157,
          0.0003949767643967157,
          0.0003949767643967157,
          0.0003949767643967157,
          0.0003949767643967157,
          0.0003949767643967157,
          0.0003949767643967157,
          0.0003949767643967157,
          0.0003949767643967157,
          0.0003949767643967157,
          0.0003949767643967157,
          0.0003949767643967157,
          0.0003949767643967157,
          0.0003949767643967157,
          0.0003949767643967157,
          0.0003949767643967157,
          0.0003949767643967157,
          0.0003949767643967157,
          0.0003949767643967157
         ],
         "yaxis": "y"
        }
       ],
       "layout": {
        "legend": {
         "tracegroupgap": 0
        },
        "margin": {
         "t": 60
        },
        "template": {
         "data": {
          "bar": [
           {
            "error_x": {
             "color": "#2a3f5f"
            },
            "error_y": {
             "color": "#2a3f5f"
            },
            "marker": {
             "line": {
              "color": "#E5ECF6",
              "width": 0.5
             },
             "pattern": {
              "fillmode": "overlay",
              "size": 10,
              "solidity": 0.2
             }
            },
            "type": "bar"
           }
          ],
          "barpolar": [
           {
            "marker": {
             "line": {
              "color": "#E5ECF6",
              "width": 0.5
             },
             "pattern": {
              "fillmode": "overlay",
              "size": 10,
              "solidity": 0.2
             }
            },
            "type": "barpolar"
           }
          ],
          "carpet": [
           {
            "aaxis": {
             "endlinecolor": "#2a3f5f",
             "gridcolor": "white",
             "linecolor": "white",
             "minorgridcolor": "white",
             "startlinecolor": "#2a3f5f"
            },
            "baxis": {
             "endlinecolor": "#2a3f5f",
             "gridcolor": "white",
             "linecolor": "white",
             "minorgridcolor": "white",
             "startlinecolor": "#2a3f5f"
            },
            "type": "carpet"
           }
          ],
          "choropleth": [
           {
            "colorbar": {
             "outlinewidth": 0,
             "ticks": ""
            },
            "type": "choropleth"
           }
          ],
          "contour": [
           {
            "colorbar": {
             "outlinewidth": 0,
             "ticks": ""
            },
            "colorscale": [
             [
              0,
              "#0d0887"
             ],
             [
              0.1111111111111111,
              "#46039f"
             ],
             [
              0.2222222222222222,
              "#7201a8"
             ],
             [
              0.3333333333333333,
              "#9c179e"
             ],
             [
              0.4444444444444444,
              "#bd3786"
             ],
             [
              0.5555555555555556,
              "#d8576b"
             ],
             [
              0.6666666666666666,
              "#ed7953"
             ],
             [
              0.7777777777777778,
              "#fb9f3a"
             ],
             [
              0.8888888888888888,
              "#fdca26"
             ],
             [
              1,
              "#f0f921"
             ]
            ],
            "type": "contour"
           }
          ],
          "contourcarpet": [
           {
            "colorbar": {
             "outlinewidth": 0,
             "ticks": ""
            },
            "type": "contourcarpet"
           }
          ],
          "heatmap": [
           {
            "colorbar": {
             "outlinewidth": 0,
             "ticks": ""
            },
            "colorscale": [
             [
              0,
              "#0d0887"
             ],
             [
              0.1111111111111111,
              "#46039f"
             ],
             [
              0.2222222222222222,
              "#7201a8"
             ],
             [
              0.3333333333333333,
              "#9c179e"
             ],
             [
              0.4444444444444444,
              "#bd3786"
             ],
             [
              0.5555555555555556,
              "#d8576b"
             ],
             [
              0.6666666666666666,
              "#ed7953"
             ],
             [
              0.7777777777777778,
              "#fb9f3a"
             ],
             [
              0.8888888888888888,
              "#fdca26"
             ],
             [
              1,
              "#f0f921"
             ]
            ],
            "type": "heatmap"
           }
          ],
          "heatmapgl": [
           {
            "colorbar": {
             "outlinewidth": 0,
             "ticks": ""
            },
            "colorscale": [
             [
              0,
              "#0d0887"
             ],
             [
              0.1111111111111111,
              "#46039f"
             ],
             [
              0.2222222222222222,
              "#7201a8"
             ],
             [
              0.3333333333333333,
              "#9c179e"
             ],
             [
              0.4444444444444444,
              "#bd3786"
             ],
             [
              0.5555555555555556,
              "#d8576b"
             ],
             [
              0.6666666666666666,
              "#ed7953"
             ],
             [
              0.7777777777777778,
              "#fb9f3a"
             ],
             [
              0.8888888888888888,
              "#fdca26"
             ],
             [
              1,
              "#f0f921"
             ]
            ],
            "type": "heatmapgl"
           }
          ],
          "histogram": [
           {
            "marker": {
             "pattern": {
              "fillmode": "overlay",
              "size": 10,
              "solidity": 0.2
             }
            },
            "type": "histogram"
           }
          ],
          "histogram2d": [
           {
            "colorbar": {
             "outlinewidth": 0,
             "ticks": ""
            },
            "colorscale": [
             [
              0,
              "#0d0887"
             ],
             [
              0.1111111111111111,
              "#46039f"
             ],
             [
              0.2222222222222222,
              "#7201a8"
             ],
             [
              0.3333333333333333,
              "#9c179e"
             ],
             [
              0.4444444444444444,
              "#bd3786"
             ],
             [
              0.5555555555555556,
              "#d8576b"
             ],
             [
              0.6666666666666666,
              "#ed7953"
             ],
             [
              0.7777777777777778,
              "#fb9f3a"
             ],
             [
              0.8888888888888888,
              "#fdca26"
             ],
             [
              1,
              "#f0f921"
             ]
            ],
            "type": "histogram2d"
           }
          ],
          "histogram2dcontour": [
           {
            "colorbar": {
             "outlinewidth": 0,
             "ticks": ""
            },
            "colorscale": [
             [
              0,
              "#0d0887"
             ],
             [
              0.1111111111111111,
              "#46039f"
             ],
             [
              0.2222222222222222,
              "#7201a8"
             ],
             [
              0.3333333333333333,
              "#9c179e"
             ],
             [
              0.4444444444444444,
              "#bd3786"
             ],
             [
              0.5555555555555556,
              "#d8576b"
             ],
             [
              0.6666666666666666,
              "#ed7953"
             ],
             [
              0.7777777777777778,
              "#fb9f3a"
             ],
             [
              0.8888888888888888,
              "#fdca26"
             ],
             [
              1,
              "#f0f921"
             ]
            ],
            "type": "histogram2dcontour"
           }
          ],
          "mesh3d": [
           {
            "colorbar": {
             "outlinewidth": 0,
             "ticks": ""
            },
            "type": "mesh3d"
           }
          ],
          "parcoords": [
           {
            "line": {
             "colorbar": {
              "outlinewidth": 0,
              "ticks": ""
             }
            },
            "type": "parcoords"
           }
          ],
          "pie": [
           {
            "automargin": true,
            "type": "pie"
           }
          ],
          "scatter": [
           {
            "fillpattern": {
             "fillmode": "overlay",
             "size": 10,
             "solidity": 0.2
            },
            "type": "scatter"
           }
          ],
          "scatter3d": [
           {
            "line": {
             "colorbar": {
              "outlinewidth": 0,
              "ticks": ""
             }
            },
            "marker": {
             "colorbar": {
              "outlinewidth": 0,
              "ticks": ""
             }
            },
            "type": "scatter3d"
           }
          ],
          "scattercarpet": [
           {
            "marker": {
             "colorbar": {
              "outlinewidth": 0,
              "ticks": ""
             }
            },
            "type": "scattercarpet"
           }
          ],
          "scattergeo": [
           {
            "marker": {
             "colorbar": {
              "outlinewidth": 0,
              "ticks": ""
             }
            },
            "type": "scattergeo"
           }
          ],
          "scattergl": [
           {
            "marker": {
             "colorbar": {
              "outlinewidth": 0,
              "ticks": ""
             }
            },
            "type": "scattergl"
           }
          ],
          "scattermapbox": [
           {
            "marker": {
             "colorbar": {
              "outlinewidth": 0,
              "ticks": ""
             }
            },
            "type": "scattermapbox"
           }
          ],
          "scatterpolar": [
           {
            "marker": {
             "colorbar": {
              "outlinewidth": 0,
              "ticks": ""
             }
            },
            "type": "scatterpolar"
           }
          ],
          "scatterpolargl": [
           {
            "marker": {
             "colorbar": {
              "outlinewidth": 0,
              "ticks": ""
             }
            },
            "type": "scatterpolargl"
           }
          ],
          "scatterternary": [
           {
            "marker": {
             "colorbar": {
              "outlinewidth": 0,
              "ticks": ""
             }
            },
            "type": "scatterternary"
           }
          ],
          "surface": [
           {
            "colorbar": {
             "outlinewidth": 0,
             "ticks": ""
            },
            "colorscale": [
             [
              0,
              "#0d0887"
             ],
             [
              0.1111111111111111,
              "#46039f"
             ],
             [
              0.2222222222222222,
              "#7201a8"
             ],
             [
              0.3333333333333333,
              "#9c179e"
             ],
             [
              0.4444444444444444,
              "#bd3786"
             ],
             [
              0.5555555555555556,
              "#d8576b"
             ],
             [
              0.6666666666666666,
              "#ed7953"
             ],
             [
              0.7777777777777778,
              "#fb9f3a"
             ],
             [
              0.8888888888888888,
              "#fdca26"
             ],
             [
              1,
              "#f0f921"
             ]
            ],
            "type": "surface"
           }
          ],
          "table": [
           {
            "cells": {
             "fill": {
              "color": "#EBF0F8"
             },
             "line": {
              "color": "white"
             }
            },
            "header": {
             "fill": {
              "color": "#C8D4E3"
             },
             "line": {
              "color": "white"
             }
            },
            "type": "table"
           }
          ]
         },
         "layout": {
          "annotationdefaults": {
           "arrowcolor": "#2a3f5f",
           "arrowhead": 0,
           "arrowwidth": 1
          },
          "autotypenumbers": "strict",
          "coloraxis": {
           "colorbar": {
            "outlinewidth": 0,
            "ticks": ""
           }
          },
          "colorscale": {
           "diverging": [
            [
             0,
             "#8e0152"
            ],
            [
             0.1,
             "#c51b7d"
            ],
            [
             0.2,
             "#de77ae"
            ],
            [
             0.3,
             "#f1b6da"
            ],
            [
             0.4,
             "#fde0ef"
            ],
            [
             0.5,
             "#f7f7f7"
            ],
            [
             0.6,
             "#e6f5d0"
            ],
            [
             0.7,
             "#b8e186"
            ],
            [
             0.8,
             "#7fbc41"
            ],
            [
             0.9,
             "#4d9221"
            ],
            [
             1,
             "#276419"
            ]
           ],
           "sequential": [
            [
             0,
             "#0d0887"
            ],
            [
             0.1111111111111111,
             "#46039f"
            ],
            [
             0.2222222222222222,
             "#7201a8"
            ],
            [
             0.3333333333333333,
             "#9c179e"
            ],
            [
             0.4444444444444444,
             "#bd3786"
            ],
            [
             0.5555555555555556,
             "#d8576b"
            ],
            [
             0.6666666666666666,
             "#ed7953"
            ],
            [
             0.7777777777777778,
             "#fb9f3a"
            ],
            [
             0.8888888888888888,
             "#fdca26"
            ],
            [
             1,
             "#f0f921"
            ]
           ],
           "sequentialminus": [
            [
             0,
             "#0d0887"
            ],
            [
             0.1111111111111111,
             "#46039f"
            ],
            [
             0.2222222222222222,
             "#7201a8"
            ],
            [
             0.3333333333333333,
             "#9c179e"
            ],
            [
             0.4444444444444444,
             "#bd3786"
            ],
            [
             0.5555555555555556,
             "#d8576b"
            ],
            [
             0.6666666666666666,
             "#ed7953"
            ],
            [
             0.7777777777777778,
             "#fb9f3a"
            ],
            [
             0.8888888888888888,
             "#fdca26"
            ],
            [
             1,
             "#f0f921"
            ]
           ]
          },
          "colorway": [
           "#636efa",
           "#EF553B",
           "#00cc96",
           "#ab63fa",
           "#FFA15A",
           "#19d3f3",
           "#FF6692",
           "#B6E880",
           "#FF97FF",
           "#FECB52"
          ],
          "font": {
           "color": "#2a3f5f"
          },
          "geo": {
           "bgcolor": "white",
           "lakecolor": "white",
           "landcolor": "#E5ECF6",
           "showlakes": true,
           "showland": true,
           "subunitcolor": "white"
          },
          "hoverlabel": {
           "align": "left"
          },
          "hovermode": "closest",
          "mapbox": {
           "style": "light"
          },
          "paper_bgcolor": "white",
          "plot_bgcolor": "#E5ECF6",
          "polar": {
           "angularaxis": {
            "gridcolor": "white",
            "linecolor": "white",
            "ticks": ""
           },
           "bgcolor": "#E5ECF6",
           "radialaxis": {
            "gridcolor": "white",
            "linecolor": "white",
            "ticks": ""
           }
          },
          "scene": {
           "xaxis": {
            "backgroundcolor": "#E5ECF6",
            "gridcolor": "white",
            "gridwidth": 2,
            "linecolor": "white",
            "showbackground": true,
            "ticks": "",
            "zerolinecolor": "white"
           },
           "yaxis": {
            "backgroundcolor": "#E5ECF6",
            "gridcolor": "white",
            "gridwidth": 2,
            "linecolor": "white",
            "showbackground": true,
            "ticks": "",
            "zerolinecolor": "white"
           },
           "zaxis": {
            "backgroundcolor": "#E5ECF6",
            "gridcolor": "white",
            "gridwidth": 2,
            "linecolor": "white",
            "showbackground": true,
            "ticks": "",
            "zerolinecolor": "white"
           }
          },
          "shapedefaults": {
           "line": {
            "color": "#2a3f5f"
           }
          },
          "ternary": {
           "aaxis": {
            "gridcolor": "white",
            "linecolor": "white",
            "ticks": ""
           },
           "baxis": {
            "gridcolor": "white",
            "linecolor": "white",
            "ticks": ""
           },
           "bgcolor": "#E5ECF6",
           "caxis": {
            "gridcolor": "white",
            "linecolor": "white",
            "ticks": ""
           }
          },
          "title": {
           "x": 0.05
          },
          "xaxis": {
           "automargin": true,
           "gridcolor": "white",
           "linecolor": "white",
           "ticks": "",
           "title": {
            "standoff": 15
           },
           "zerolinecolor": "white",
           "zerolinewidth": 2
          },
          "yaxis": {
           "automargin": true,
           "gridcolor": "white",
           "linecolor": "white",
           "ticks": "",
           "title": {
            "standoff": 15
           },
           "zerolinecolor": "white",
           "zerolinewidth": 2
          }
         }
        },
        "xaxis": {
         "anchor": "y",
         "domain": [
          0,
          1
         ],
         "title": {
          "text": "generation"
         }
        },
        "yaxis": {
         "anchor": "x",
         "domain": [
          0,
          1
         ],
         "title": {
          "text": "fitness_value"
         }
        }
       }
      },
      "text/html": [
       "<div>                            <div id=\"94500cff-6275-4501-9825-7046321a97dd\" class=\"plotly-graph-div\" style=\"height:525px; width:100%;\"></div>            <script type=\"text/javascript\">                require([\"plotly\"], function(Plotly) {                    window.PLOTLYENV=window.PLOTLYENV || {};                                    if (document.getElementById(\"94500cff-6275-4501-9825-7046321a97dd\")) {                    Plotly.newPlot(                        \"94500cff-6275-4501-9825-7046321a97dd\",                        [{\"hovertemplate\":\"generation=%{x}<br>fitness_value=%{y}<extra></extra>\",\"legendgroup\":\"\",\"line\":{\"color\":\"#636efa\",\"dash\":\"solid\"},\"marker\":{\"symbol\":\"circle\"},\"mode\":\"lines\",\"name\":\"\",\"orientation\":\"v\",\"showlegend\":false,\"x\":[0,1,2,3,4,5,6,7,8,9,10,11,12,13,14,15,16,17,18,19,20,21,22,23,24,25,26,27,28,29,30,31,32,33,34,35,36,37,38,39,40,41,42,43,44,45,46,47,48,49,50,51,52,53,54,55,56,57,58,59,60,61,62,63,64,65,66,67,68,69,70,71,72,73,74,75,76,77,78,79,80,81,82,83,84,85,86,87,88,89,90,91,92,93,94,95,96,97,98,99,100,101,102,103,104,105,106,107,108,109,110,111,112,113,114,115,116,117,118,119,120,121,122,123,124,125,126,127,128,129,130,131,132,133,134,135,136,137,138,139,140,141,142,143,144,145,146,147,148,149,150,151,152,153,154,155,156,157,158,159,160,161,162,163,164,165,166,167,168,169,170,171,172,173,174,175,176,177,178,179,180,181,182,183,184,185,186,187,188,189,190,191,192,193,194,195,196,197,198,199,200,201,202,203,204,205,206,207,208,209,210,211,212,213,214,215,216,217,218,219,220,221,222,223,224,225,226,227,228,229,230,231,232,233,234,235,236,237,238,239,240,241,242,243,244,245,246,247,248,249,250,251,252,253,254,255,256,257,258,259,260,261,262,263,264,265,266,267,268,269,270,271,272,273,274,275,276,277,278,279,280,281,282,283,284,285,286,287,288,289,290,291,292,293,294,295,296,297,298,299,300,301,302,303,304,305,306,307,308,309,310,311,312,313,314,315,316,317,318,319,320,321,322,323,324,325,326,327,328,329,330,331,332,333,334,335,336,337,338,339,340,341,342,343,344,345,346,347,348,349,350,351,352,353,354,355,356,357,358,359,360,361,362,363,364,365,366,367,368,369,370,371,372,373,374,375,376,377,378,379,380,381,382,383,384,385,386,387,388,389,390,391,392,393,394,395,396,397,398,399,400,401,402,403,404,405,406,407,408,409,410,411,412,413,414,415,416,417,418,419,420,421,422,423,424,425,426,427,428,429,430,431,432,433,434,435,436,437,438,439,440,441,442,443,444,445,446,447,448,449,450,451,452,453,454,455,456,457,458,459,460,461,462,463,464,465,466,467,468,469,470,471,472,473,474,475,476,477,478,479,480,481,482,483,484,485,486,487,488,489,490,491,492,493,494,495,496,497,498,499,500,501,502,503,504,505,506,507,508,509,510,511,512,513,514,515,516,517,518,519,520,521,522,523,524,525,526,527,528,529,530,531,532,533,534,535,536,537,538,539,540,541,542,543,544,545,546,547,548,549,550,551,552,553,554,555,556,557,558,559,560,561,562,563,564,565,566,567,568,569,570,571,572,573,574,575,576,577,578,579,580,581,582,583,584,585,586,587,588,589,590,591,592,593,594,595,596,597,598,599,600,601,602,603,604,605,606,607,608,609,610,611,612,613,614,615,616,617,618,619,620,621,622,623,624,625,626,627,628,629,630,631,632,633,634,635,636,637,638,639,640,641,642,643,644,645,646,647,648,649,650,651,652,653,654,655,656,657,658,659,660,661,662,663,664,665,666,667,668,669,670,671,672,673,674,675,676,677,678,679,680,681,682,683,684,685,686,687,688,689,690,691,692,693,694,695,696,697,698,699,700,701,702,703,704,705,706,707,708,709,710,711,712,713,714,715,716,717,718,719,720,721,722,723,724,725,726,727,728,729,730,731,732,733,734,735,736,737,738,739,740,741,742,743,744,745,746,747,748,749,750,751,752,753,754,755,756,757,758,759,760,761,762,763,764,765,766,767,768,769,770,771,772,773,774,775,776,777,778,779,780,781,782,783,784,785,786,787,788,789,790,791,792,793,794,795,796,797,798,799,800,801,802,803,804,805,806,807,808,809,810,811,812,813,814,815,816,817,818,819,820,821,822,823,824,825,826,827,828,829,830,831,832,833,834,835,836,837,838,839,840,841,842,843,844,845,846,847,848,849,850,851,852,853,854,855,856,857,858,859,860,861,862,863,864,865,866,867,868,869,870,871,872,873,874,875,876,877,878,879,880,881,882,883,884,885,886,887,888,889,890,891,892,893,894,895,896,897,898,899,900,901,902,903,904,905,906,907,908,909,910,911,912,913,914,915,916,917,918,919,920,921,922,923,924,925,926,927,928,929,930,931,932,933,934,935,936,937,938,939,940,941,942,943,944,945,946,947,948,949,950,951,952,953,954,955,956,957,958,959,960,961,962,963,964,965,966,967,968,969,970,971,972,973,974,975,976,977,978,979,980,981,982,983,984,985,986,987,988,989,990,991,992,993,994,995,996,997,998,999],\"xaxis\":\"x\",\"y\":[0.0002190350679394267,0.0002190350679394267,0.00023590804598931116,0.00023590804598931116,0.00023590804598931116,0.00023590804598931116,0.00023590804598931116,0.00023590804598931116,0.00023590804598931116,0.00023590804598931116,0.00023590804598931116,0.0002363214074369294,0.0002363214074369294,0.0002363214074369294,0.0002363214074369294,0.0002363214074369294,0.0002363214074369294,0.0002363214074369294,0.0002363214074369294,0.0002363214074369294,0.0002363214074369294,0.0002363214074369294,0.0002363214074369294,0.0002363214074369294,0.0002363214074369294,0.0002363214074369294,0.0002363214074369294,0.0002363214074369294,0.0002363214074369294,0.0002363214074369294,0.0002363214074369294,0.0002363214074369294,0.0002363214074369294,0.0002363214074369294,0.0002363214074369294,0.0002363214074369294,0.0002363214074369294,0.0002363214074369294,0.0002363214074369294,0.0002363214074369294,0.0002363214074369294,0.0002363214074369294,0.00024595813267908333,0.00024595813267908333,0.00024595813267908333,0.00024595813267908333,0.00024595813267908333,0.00024595813267908333,0.00024595813267908333,0.00024595813267908333,0.00024595813267908333,0.00024595813267908333,0.00024595813267908333,0.00024595813267908333,0.00024595813267908333,0.000246742521022679,0.000246742521022679,0.000246742521022679,0.000246742521022679,0.000246742521022679,0.000246742521022679,0.000246742521022679,0.000246742521022679,0.0002679043110704334,0.0002679043110704334,0.0002679043110704334,0.0002679043110704334,0.0002679043110704334,0.0002679043110704334,0.0002679043110704334,0.0002679043110704334,0.0002679043110704334,0.0002679043110704334,0.0002679043110704334,0.0002679043110704334,0.0002679043110704334,0.0002679043110704334,0.0002679043110704334,0.0002679043110704334,0.0002679043110704334,0.0002679043110704334,0.0002679043110704334,0.0002679043110704334,0.0002679043110704334,0.0002679043110704334,0.0002679043110704334,0.0002679043110704334,0.0002783889303759882,0.0002783889303759882,0.0002783889303759882,0.0002783889303759882,0.0002783889303759882,0.0002783889303759882,0.0002783889303759882,0.0002783889303759882,0.0002783889303759882,0.0002783889303759882,0.0002783889303759882,0.0002783889303759882,0.0002783889303759882,0.0002783889303759882,0.0002783889303759882,0.0002783889303759882,0.0002783889303759882,0.0002783889303759882,0.0002783889303759882,0.0002783889303759882,0.0002783889303759882,0.0002783889303759882,0.0002783889303759882,0.0002783889303759882,0.0002783889303759882,0.0002783889303759882,0.0002783889303759882,0.0002783889303759882,0.0002783889303759882,0.0002783889303759882,0.0002783889303759882,0.0002783889303759882,0.00027948621629413615,0.00027948621629413615,0.00027948621629413615,0.00027948621629413615,0.00027948621629413615,0.00027948621629413615,0.00027948621629413615,0.00027948621629413615,0.000280861900989707,0.000280861900989707,0.000280861900989707,0.000280861900989707,0.000280861900989707,0.000280861900989707,0.00029592331049719465,0.00029592331049719465,0.00029592331049719465,0.00029592331049719465,0.00029592331049719465,0.00029592331049719465,0.00029592331049719465,0.00029592331049719465,0.00029592331049719465,0.00029592331049719465,0.00029592331049719465,0.00029592331049719465,0.00029592331049719465,0.00029592331049719465,0.00029592331049719465,0.00029592331049719465,0.0003008875351842305,0.0003008875351842305,0.0003008875351842305,0.0003008875351842305,0.0003008875351842305,0.0003008875351842305,0.0003008875351842305,0.0003008875351842305,0.0003008875351842305,0.0003008875351842305,0.0003008875351842305,0.0003008875351842305,0.0003008875351842305,0.0003008875351842305,0.0003008875351842305,0.0003008875351842305,0.0003008875351842305,0.0003008875351842305,0.0003008875351842305,0.0003008875351842305,0.0003008875351842305,0.0003008875351842305,0.0003008875351842305,0.0003008875351842305,0.0003008875351842305,0.0003008875351842305,0.0003008875351842305,0.0003008875351842305,0.0003008875351842305,0.0003008875351842305,0.0003008875351842305,0.0003008875351842305,0.0003008875351842305,0.0003008875351842305,0.0003008875351842305,0.0003008875351842305,0.0003037554170394035,0.0003037554170394035,0.0003037554170394035,0.0003037554170394035,0.0003037554170394035,0.0003037554170394035,0.0003037554170394035,0.0003037554170394035,0.0003037554170394035,0.0003037554170394035,0.0003037554170394035,0.0003037554170394035,0.0003037554170394035,0.0003037554170394035,0.0003088512714133248,0.0003088512714133248,0.0003088512714133248,0.0003088512714133248,0.0003088512714133248,0.0003088512714133248,0.0003088512714133248,0.0003088512714133248,0.0003088512714133248,0.0003088512714133248,0.0003088512714133248,0.0003088512714133248,0.0003088512714133248,0.0003088512714133248,0.0003088512714133248,0.0003088512714133248,0.0003088512714133248,0.0003088512714133248,0.0003088512714133248,0.0003088512714133248,0.0003088512714133248,0.0003088512714133248,0.0003088512714133248,0.0003088512714133248,0.0003107401384543591,0.0003107401384543591,0.0003107401384543591,0.0003107401384543591,0.0003107401384543591,0.0003107401384543591,0.0003107401384543591,0.0003107401384543591,0.0003107401384543591,0.0003107401384543591,0.0003107401384543591,0.0003107401384543591,0.0003107401384543591,0.0003107401384543591,0.0003107401384543591,0.0003107401384543591,0.00033749608314912334,0.00033749608314912334,0.00033749608314912334,0.00033749608314912334,0.00033749608314912334,0.00033749608314912334,0.00033749608314912334,0.00033749608314912334,0.00033749608314912334,0.00033749608314912334,0.00033749608314912334,0.00033749608314912334,0.00033749608314912334,0.00033749608314912334,0.00033749608314912334,0.00033749608314912334,0.00033749608314912334,0.00033749608314912334,0.00033749608314912334,0.00033749608314912334,0.00033749608314912334,0.00033749608314912334,0.00033749608314912334,0.00033749608314912334,0.00033749608314912334,0.00033749608314912334,0.00033749608314912334,0.00033749608314912334,0.00033749608314912334,0.00033749608314912334,0.00033749608314912334,0.000338669621814125,0.000338669621814125,0.000338669621814125,0.000338669621814125,0.000338669621814125,0.000338669621814125,0.000338669621814125,0.000338669621814125,0.000338669621814125,0.00034480952342374587,0.00034480952342374587,0.00034480952342374587,0.00034480952342374587,0.00034480952342374587,0.00034480952342374587,0.00034480952342374587,0.00034480952342374587,0.00034480952342374587,0.00034480952342374587,0.00034480952342374587,0.00034480952342374587,0.00034480952342374587,0.00034480952342374587,0.00034480952342374587,0.00034480952342374587,0.00034480952342374587,0.0003468725957418388,0.0003468725957418388,0.0003468725957418388,0.0003468725957418388,0.0003468725957418388,0.0003468725957418388,0.0003468725957418388,0.0003468725957418388,0.0003468725957418388,0.0003468725957418388,0.0003468725957418388,0.0003468725957418388,0.00035556706009843463,0.00035556706009843463,0.00035556706009843463,0.00035556706009843463,0.00035556706009843463,0.00035556706009843463,0.00035556706009843463,0.00035556706009843463,0.00035556706009843463,0.00035556706009843463,0.00035556706009843463,0.00035556706009843463,0.00035556706009843463,0.00035556706009843463,0.00035556706009843463,0.00035556706009843463,0.00035556706009843463,0.00035556706009843463,0.00035556706009843463,0.00035556706009843463,0.00035556706009843463,0.00035556706009843463,0.00035556706009843463,0.00035556706009843463,0.00035556706009843463,0.00035556706009843463,0.00035556706009843463,0.00035556706009843463,0.00035556706009843463,0.00035556706009843463,0.00035556706009843463,0.00035556706009843463,0.00035556706009843463,0.00035556706009843463,0.00035556706009843463,0.00035556706009843463,0.00035556706009843463,0.00035556706009843463,0.00035556706009843463,0.00035556706009843463,0.00035556706009843463,0.00035556706009843463,0.00035556706009843463,0.00035556706009843463,0.00035556706009843463,0.00035556706009843463,0.00035556706009843463,0.00035556706009843463,0.00035556706009843463,0.00035556706009843463,0.00035556706009843463,0.00035556706009843463,0.00035556706009843463,0.00035556706009843463,0.00035556706009843463,0.00035556706009843463,0.00035850018818652684,0.00035850018818652684,0.00035850018818652684,0.00035850018818652684,0.00035850018818652684,0.00035850018818652684,0.00035850018818652684,0.00035850018818652684,0.00035850018818652684,0.00035850018818652684,0.00035850018818652684,0.00035850018818652684,0.00035850018818652684,0.00035850018818652684,0.00035850018818652684,0.00035850018818652684,0.00035850018818652684,0.00035850018818652684,0.00035850018818652684,0.00035850018818652684,0.00035850018818652684,0.00035850018818652684,0.00035850018818652684,0.00035850018818652684,0.00035850018818652684,0.00035850018818652684,0.00035850018818652684,0.00035850018818652684,0.00035850018818652684,0.00035850018818652684,0.00035850018818652684,0.00035850018818652684,0.00035850018818652684,0.00035850018818652684,0.00035850018818652684,0.00035850018818652684,0.00035850018818652684,0.00035850018818652684,0.00035850018818652684,0.00035850018818652684,0.00035850018818652684,0.00035850018818652684,0.00035850018818652684,0.00035850018818652684,0.00035850018818652684,0.00035850018818652684,0.00035850018818652684,0.00035850018818652684,0.00035850018818652684,0.00035850018818652684,0.00035850018818652684,0.00035850018818652684,0.00035850018818652684,0.00035850018818652684,0.00035850018818652684,0.00035850018818652684,0.00035850018818652684,0.00035850018818652684,0.00035850018818652684,0.00035850018818652684,0.00035850018818652684,0.00035850018818652684,0.00035850018818652684,0.00035850018818652684,0.00035850018818652684,0.00035850018818652684,0.00035850018818652684,0.00035850018818652684,0.00035850018818652684,0.00035850018818652684,0.00035850018818652684,0.00035850018818652684,0.00035850018818652684,0.00035850018818652684,0.00035850018818652684,0.00035850018818652684,0.00035850018818652684,0.00035850018818652684,0.00035850018818652684,0.00035850018818652684,0.00035850018818652684,0.00035850018818652684,0.00035850018818652684,0.00035850018818652684,0.00035850018818652684,0.00035850018818652684,0.00035850018818652684,0.00035850018818652684,0.00035850018818652684,0.00035850018818652684,0.00035850018818652684,0.00035850018818652684,0.00035850018818652684,0.00035850018818652684,0.00035850018818652684,0.00035850018818652684,0.00035850018818652684,0.00035850018818652684,0.00035850018818652684,0.00035850018818652684,0.00035850018818652684,0.00035850018818652684,0.00035850018818652684,0.00035850018818652684,0.00035850018818652684,0.00035850018818652684,0.00035850018818652684,0.00035850018818652684,0.00035850018818652684,0.00035850018818652684,0.00035850018818652684,0.00035850018818652684,0.00035850018818652684,0.00035850018818652684,0.00035850018818652684,0.00035850018818652684,0.00035850018818652684,0.00035850018818652684,0.00035850018818652684,0.00035850018818652684,0.00035850018818652684,0.00035850018818652684,0.00035850018818652684,0.00035850018818652684,0.00035850018818652684,0.00035850018818652684,0.00035850018818652684,0.00035850018818652684,0.00035850018818652684,0.00035850018818652684,0.00035850018818652684,0.00035850018818652684,0.00035850018818652684,0.00035850018818652684,0.00035850018818652684,0.00035850018818652684,0.00035850018818652684,0.00035850018818652684,0.00035850018818652684,0.00035850018818652684,0.00035850018818652684,0.00035850018818652684,0.00035850018818652684,0.00035850018818652684,0.00035850018818652684,0.00035850018818652684,0.00035850018818652684,0.00035850018818652684,0.00035850018818652684,0.00035850018818652684,0.00035850018818652684,0.00035850018818652684,0.00035850018818652684,0.00035850018818652684,0.00035850018818652684,0.00035850018818652684,0.00035850018818652684,0.00035850018818652684,0.00035850018818652684,0.00035850018818652684,0.00035850018818652684,0.00035850018818652684,0.00035850018818652684,0.00035850018818652684,0.00035850018818652684,0.00035850018818652684,0.00035850018818652684,0.00035850018818652684,0.00035850018818652684,0.00035850018818652684,0.00035850018818652684,0.00035850018818652684,0.00035850018818652684,0.00035850018818652684,0.00035850018818652684,0.00035850018818652684,0.00035850018818652684,0.00035850018818652684,0.00035850018818652684,0.00035850018818652684,0.00035850018818652684,0.00035850018818652684,0.00035850018818652684,0.00035850018818652684,0.00035850018818652684,0.00035850018818652684,0.00035850018818652684,0.00035850018818652684,0.00035850018818652684,0.00035850018818652684,0.00035850018818652684,0.00035850018818652684,0.00035850018818652684,0.00035850018818652684,0.00035850018818652684,0.00035850018818652684,0.00035850018818652684,0.00035850018818652684,0.00035850018818652684,0.00035850018818652684,0.00035850018818652684,0.00035850018818652684,0.00035850018818652684,0.00035850018818652684,0.00035850018818652684,0.00035850018818652684,0.00035850018818652684,0.00035850018818652684,0.00035850018818652684,0.00035850018818652684,0.00035850018818652684,0.00035850018818652684,0.00035850018818652684,0.00035850018818652684,0.00035850018818652684,0.00035850018818652684,0.00035850018818652684,0.00035850018818652684,0.00035850018818652684,0.00035850018818652684,0.00035850018818652684,0.00035850018818652684,0.00035850018818652684,0.00035850018818652684,0.00035850018818652684,0.00035850018818652684,0.00035850018818652684,0.00035850018818652684,0.00035850018818652684,0.00035850018818652684,0.00035850018818652684,0.00035850018818652684,0.00035850018818652684,0.00035850018818652684,0.00035850018818652684,0.00035850018818652684,0.00035850018818652684,0.00035850018818652684,0.00035850018818652684,0.00035850018818652684,0.00035850018818652684,0.00035850018818652684,0.00035850018818652684,0.00035850018818652684,0.00035850018818652684,0.00035850018818652684,0.00035850018818652684,0.00035850018818652684,0.00036427174656276305,0.0003766102557957533,0.0003766102557957533,0.0003766102557957533,0.0003766102557957533,0.0003766102557957533,0.0003766102557957533,0.0003766102557957533,0.0003766102557957533,0.0003766102557957533,0.0003766102557957533,0.0003766102557957533,0.0003766102557957533,0.0003766102557957533,0.0003766102557957533,0.0003766102557957533,0.0003766102557957533,0.0003766102557957533,0.0003766102557957533,0.0003766102557957533,0.0003766102557957533,0.0003766102557957533,0.0003766102557957533,0.0003766102557957533,0.0003766102557957533,0.0003766102557957533,0.0003766102557957533,0.0003766102557957533,0.0003766102557957533,0.0003766102557957533,0.0003766102557957533,0.0003766102557957533,0.0003766102557957533,0.0003766102557957533,0.0003766102557957533,0.0003766102557957533,0.0003766102557957533,0.0003766102557957533,0.0003766102557957533,0.0003766102557957533,0.0003766102557957533,0.0003766102557957533,0.0003766102557957533,0.0003766102557957533,0.0003766102557957533,0.0003766102557957533,0.0003766102557957533,0.0003766102557957533,0.0003766102557957533,0.0003766102557957533,0.0003766102557957533,0.0003766102557957533,0.0003766102557957533,0.0003766102557957533,0.00038206538094281615,0.00038206538094281615,0.00038206538094281615,0.00038206538094281615,0.00038206538094281615,0.00038206538094281615,0.00038206538094281615,0.00038206538094281615,0.00038206538094281615,0.00038206538094281615,0.00038206538094281615,0.00038206538094281615,0.00038206538094281615,0.00038206538094281615,0.00038206538094281615,0.00038206538094281615,0.00038206538094281615,0.00038206538094281615,0.00038206538094281615,0.00038206538094281615,0.00038206538094281615,0.00038206538094281615,0.00038206538094281615,0.00038206538094281615,0.00038206538094281615,0.00038206538094281615,0.00038206538094281615,0.00038206538094281615,0.00038206538094281615,0.00038206538094281615,0.00038206538094281615,0.00038206538094281615,0.00038206538094281615,0.00038206538094281615,0.00038206538094281615,0.00038206538094281615,0.00038206538094281615,0.00038206538094281615,0.00038206538094281615,0.00038206538094281615,0.00038206538094281615,0.00038206538094281615,0.00038206538094281615,0.00038206538094281615,0.00038206538094281615,0.00038206538094281615,0.00038206538094281615,0.00038206538094281615,0.00038206538094281615,0.00038206538094281615,0.00038206538094281615,0.00038206538094281615,0.00038206538094281615,0.00038206538094281615,0.00038206538094281615,0.00038206538094281615,0.00038206538094281615,0.00038206538094281615,0.00038206538094281615,0.00038206538094281615,0.00038206538094281615,0.00038206538094281615,0.00038206538094281615,0.00038206538094281615,0.00038206538094281615,0.00038206538094281615,0.00038206538094281615,0.00038206538094281615,0.00038206538094281615,0.00038206538094281615,0.00038206538094281615,0.00038206538094281615,0.00038206538094281615,0.00038206538094281615,0.00038206538094281615,0.00038206538094281615,0.0003949767643967157,0.0003949767643967157,0.0003949767643967157,0.0003949767643967157,0.0003949767643967157,0.0003949767643967157,0.0003949767643967157,0.0003949767643967157,0.0003949767643967157,0.0003949767643967157,0.0003949767643967157,0.0003949767643967157,0.0003949767643967157,0.0003949767643967157,0.0003949767643967157,0.0003949767643967157,0.0003949767643967157,0.0003949767643967157,0.0003949767643967157,0.0003949767643967157,0.0003949767643967157,0.0003949767643967157,0.0003949767643967157,0.0003949767643967157,0.0003949767643967157,0.0003949767643967157,0.0003949767643967157,0.0003949767643967157,0.0003949767643967157,0.0003949767643967157,0.0003949767643967157,0.0003949767643967157,0.0003949767643967157,0.0003949767643967157,0.0003949767643967157,0.0003949767643967157,0.0003949767643967157,0.0003949767643967157,0.0003949767643967157,0.0003949767643967157,0.0003949767643967157,0.0003949767643967157,0.0003949767643967157,0.0003949767643967157,0.0003949767643967157,0.0003949767643967157,0.0003949767643967157,0.0003949767643967157,0.0003949767643967157,0.0003949767643967157,0.0003949767643967157,0.0003949767643967157,0.0003949767643967157,0.0003949767643967157,0.0003949767643967157,0.0003949767643967157,0.0003949767643967157,0.0003949767643967157,0.0003949767643967157,0.0003949767643967157,0.0003949767643967157,0.0003949767643967157,0.0003949767643967157,0.0003949767643967157,0.0003949767643967157,0.0003949767643967157,0.0003949767643967157,0.0003949767643967157,0.0003949767643967157,0.0003949767643967157,0.0003949767643967157,0.0003949767643967157,0.0003949767643967157,0.0003949767643967157,0.0003949767643967157,0.0003949767643967157,0.0003949767643967157,0.0003949767643967157,0.0003949767643967157,0.0003949767643967157,0.0003949767643967157,0.0003949767643967157,0.0003949767643967157,0.0003949767643967157,0.0003949767643967157,0.0003949767643967157,0.0003949767643967157,0.0003949767643967157,0.0003949767643967157,0.0003949767643967157,0.0003949767643967157,0.0003949767643967157,0.0003949767643967157,0.0003949767643967157,0.0003949767643967157,0.0003949767643967157,0.0003949767643967157,0.0003949767643967157,0.0003949767643967157,0.0003949767643967157,0.0003949767643967157,0.0003949767643967157,0.0003949767643967157,0.0003949767643967157,0.0003949767643967157,0.0003949767643967157,0.0003949767643967157,0.0003949767643967157,0.0003949767643967157,0.0003949767643967157,0.0003949767643967157,0.0003949767643967157,0.0003949767643967157,0.0003949767643967157,0.0003949767643967157,0.0003949767643967157,0.0003949767643967157,0.0003949767643967157,0.0003949767643967157,0.0003949767643967157,0.0003949767643967157,0.0003949767643967157,0.0003949767643967157,0.0003949767643967157,0.0003949767643967157,0.0003949767643967157,0.0003949767643967157,0.0003949767643967157,0.0003949767643967157,0.0003949767643967157,0.0003949767643967157,0.0003949767643967157,0.0003949767643967157,0.0003949767643967157,0.0003949767643967157,0.0003949767643967157,0.0003949767643967157,0.0003949767643967157,0.0003949767643967157,0.0003949767643967157,0.0003949767643967157,0.0003949767643967157,0.0003949767643967157,0.0003949767643967157,0.0003949767643967157,0.0003949767643967157,0.0003949767643967157,0.0003949767643967157,0.0003949767643967157,0.0003949767643967157,0.0003949767643967157,0.0003949767643967157,0.0003949767643967157,0.0003949767643967157,0.0003949767643967157,0.0003949767643967157,0.0003949767643967157,0.0003949767643967157,0.0003949767643967157,0.0003949767643967157,0.0003949767643967157,0.0003949767643967157,0.0003949767643967157,0.0003949767643967157,0.0003949767643967157,0.0003949767643967157,0.0003949767643967157,0.0003949767643967157,0.0003949767643967157,0.0003949767643967157,0.0003949767643967157,0.0003949767643967157,0.0003949767643967157,0.0003949767643967157,0.0003949767643967157,0.0003949767643967157,0.0003949767643967157,0.0003949767643967157,0.0003949767643967157,0.0003949767643967157,0.0003949767643967157,0.0003949767643967157,0.0003949767643967157,0.0003949767643967157,0.0003949767643967157,0.0003949767643967157,0.0003949767643967157,0.0003949767643967157,0.0003949767643967157,0.0003949767643967157,0.0003949767643967157,0.0003949767643967157,0.0003949767643967157,0.0003949767643967157,0.0003949767643967157,0.0003949767643967157,0.0003949767643967157,0.0003949767643967157,0.0003949767643967157,0.0003949767643967157,0.0003949767643967157,0.0003949767643967157,0.0003949767643967157,0.0003949767643967157,0.0003949767643967157,0.0003949767643967157,0.0003949767643967157,0.0003949767643967157,0.0003949767643967157,0.0003949767643967157,0.0003949767643967157,0.0003949767643967157,0.0003949767643967157,0.0003949767643967157,0.0003949767643967157,0.0003949767643967157,0.0003949767643967157,0.0003949767643967157,0.0003949767643967157,0.0003949767643967157,0.0003949767643967157,0.0003949767643967157,0.0003949767643967157,0.0003949767643967157,0.0003949767643967157,0.0003949767643967157,0.0003949767643967157,0.0003949767643967157,0.0003949767643967157,0.0003949767643967157,0.0003949767643967157,0.0003949767643967157,0.0003949767643967157,0.0003949767643967157,0.0003949767643967157,0.0003949767643967157,0.0003949767643967157,0.0003949767643967157,0.0003949767643967157,0.0003949767643967157,0.0003949767643967157,0.0003949767643967157,0.0003949767643967157,0.0003949767643967157,0.0003949767643967157,0.0003949767643967157,0.0003949767643967157,0.0003949767643967157,0.0003949767643967157,0.0003949767643967157,0.0003949767643967157,0.0003949767643967157,0.0003949767643967157,0.0003949767643967157,0.0003949767643967157,0.0003949767643967157,0.0003949767643967157,0.0003949767643967157],\"yaxis\":\"y\",\"type\":\"scatter\"}],                        {\"template\":{\"data\":{\"histogram2dcontour\":[{\"type\":\"histogram2dcontour\",\"colorbar\":{\"outlinewidth\":0,\"ticks\":\"\"},\"colorscale\":[[0.0,\"#0d0887\"],[0.1111111111111111,\"#46039f\"],[0.2222222222222222,\"#7201a8\"],[0.3333333333333333,\"#9c179e\"],[0.4444444444444444,\"#bd3786\"],[0.5555555555555556,\"#d8576b\"],[0.6666666666666666,\"#ed7953\"],[0.7777777777777778,\"#fb9f3a\"],[0.8888888888888888,\"#fdca26\"],[1.0,\"#f0f921\"]]}],\"choropleth\":[{\"type\":\"choropleth\",\"colorbar\":{\"outlinewidth\":0,\"ticks\":\"\"}}],\"histogram2d\":[{\"type\":\"histogram2d\",\"colorbar\":{\"outlinewidth\":0,\"ticks\":\"\"},\"colorscale\":[[0.0,\"#0d0887\"],[0.1111111111111111,\"#46039f\"],[0.2222222222222222,\"#7201a8\"],[0.3333333333333333,\"#9c179e\"],[0.4444444444444444,\"#bd3786\"],[0.5555555555555556,\"#d8576b\"],[0.6666666666666666,\"#ed7953\"],[0.7777777777777778,\"#fb9f3a\"],[0.8888888888888888,\"#fdca26\"],[1.0,\"#f0f921\"]]}],\"heatmap\":[{\"type\":\"heatmap\",\"colorbar\":{\"outlinewidth\":0,\"ticks\":\"\"},\"colorscale\":[[0.0,\"#0d0887\"],[0.1111111111111111,\"#46039f\"],[0.2222222222222222,\"#7201a8\"],[0.3333333333333333,\"#9c179e\"],[0.4444444444444444,\"#bd3786\"],[0.5555555555555556,\"#d8576b\"],[0.6666666666666666,\"#ed7953\"],[0.7777777777777778,\"#fb9f3a\"],[0.8888888888888888,\"#fdca26\"],[1.0,\"#f0f921\"]]}],\"heatmapgl\":[{\"type\":\"heatmapgl\",\"colorbar\":{\"outlinewidth\":0,\"ticks\":\"\"},\"colorscale\":[[0.0,\"#0d0887\"],[0.1111111111111111,\"#46039f\"],[0.2222222222222222,\"#7201a8\"],[0.3333333333333333,\"#9c179e\"],[0.4444444444444444,\"#bd3786\"],[0.5555555555555556,\"#d8576b\"],[0.6666666666666666,\"#ed7953\"],[0.7777777777777778,\"#fb9f3a\"],[0.8888888888888888,\"#fdca26\"],[1.0,\"#f0f921\"]]}],\"contourcarpet\":[{\"type\":\"contourcarpet\",\"colorbar\":{\"outlinewidth\":0,\"ticks\":\"\"}}],\"contour\":[{\"type\":\"contour\",\"colorbar\":{\"outlinewidth\":0,\"ticks\":\"\"},\"colorscale\":[[0.0,\"#0d0887\"],[0.1111111111111111,\"#46039f\"],[0.2222222222222222,\"#7201a8\"],[0.3333333333333333,\"#9c179e\"],[0.4444444444444444,\"#bd3786\"],[0.5555555555555556,\"#d8576b\"],[0.6666666666666666,\"#ed7953\"],[0.7777777777777778,\"#fb9f3a\"],[0.8888888888888888,\"#fdca26\"],[1.0,\"#f0f921\"]]}],\"surface\":[{\"type\":\"surface\",\"colorbar\":{\"outlinewidth\":0,\"ticks\":\"\"},\"colorscale\":[[0.0,\"#0d0887\"],[0.1111111111111111,\"#46039f\"],[0.2222222222222222,\"#7201a8\"],[0.3333333333333333,\"#9c179e\"],[0.4444444444444444,\"#bd3786\"],[0.5555555555555556,\"#d8576b\"],[0.6666666666666666,\"#ed7953\"],[0.7777777777777778,\"#fb9f3a\"],[0.8888888888888888,\"#fdca26\"],[1.0,\"#f0f921\"]]}],\"mesh3d\":[{\"type\":\"mesh3d\",\"colorbar\":{\"outlinewidth\":0,\"ticks\":\"\"}}],\"scatter\":[{\"fillpattern\":{\"fillmode\":\"overlay\",\"size\":10,\"solidity\":0.2},\"type\":\"scatter\"}],\"parcoords\":[{\"type\":\"parcoords\",\"line\":{\"colorbar\":{\"outlinewidth\":0,\"ticks\":\"\"}}}],\"scatterpolargl\":[{\"type\":\"scatterpolargl\",\"marker\":{\"colorbar\":{\"outlinewidth\":0,\"ticks\":\"\"}}}],\"bar\":[{\"error_x\":{\"color\":\"#2a3f5f\"},\"error_y\":{\"color\":\"#2a3f5f\"},\"marker\":{\"line\":{\"color\":\"#E5ECF6\",\"width\":0.5},\"pattern\":{\"fillmode\":\"overlay\",\"size\":10,\"solidity\":0.2}},\"type\":\"bar\"}],\"scattergeo\":[{\"type\":\"scattergeo\",\"marker\":{\"colorbar\":{\"outlinewidth\":0,\"ticks\":\"\"}}}],\"scatterpolar\":[{\"type\":\"scatterpolar\",\"marker\":{\"colorbar\":{\"outlinewidth\":0,\"ticks\":\"\"}}}],\"histogram\":[{\"marker\":{\"pattern\":{\"fillmode\":\"overlay\",\"size\":10,\"solidity\":0.2}},\"type\":\"histogram\"}],\"scattergl\":[{\"type\":\"scattergl\",\"marker\":{\"colorbar\":{\"outlinewidth\":0,\"ticks\":\"\"}}}],\"scatter3d\":[{\"type\":\"scatter3d\",\"line\":{\"colorbar\":{\"outlinewidth\":0,\"ticks\":\"\"}},\"marker\":{\"colorbar\":{\"outlinewidth\":0,\"ticks\":\"\"}}}],\"scattermapbox\":[{\"type\":\"scattermapbox\",\"marker\":{\"colorbar\":{\"outlinewidth\":0,\"ticks\":\"\"}}}],\"scatterternary\":[{\"type\":\"scatterternary\",\"marker\":{\"colorbar\":{\"outlinewidth\":0,\"ticks\":\"\"}}}],\"scattercarpet\":[{\"type\":\"scattercarpet\",\"marker\":{\"colorbar\":{\"outlinewidth\":0,\"ticks\":\"\"}}}],\"carpet\":[{\"aaxis\":{\"endlinecolor\":\"#2a3f5f\",\"gridcolor\":\"white\",\"linecolor\":\"white\",\"minorgridcolor\":\"white\",\"startlinecolor\":\"#2a3f5f\"},\"baxis\":{\"endlinecolor\":\"#2a3f5f\",\"gridcolor\":\"white\",\"linecolor\":\"white\",\"minorgridcolor\":\"white\",\"startlinecolor\":\"#2a3f5f\"},\"type\":\"carpet\"}],\"table\":[{\"cells\":{\"fill\":{\"color\":\"#EBF0F8\"},\"line\":{\"color\":\"white\"}},\"header\":{\"fill\":{\"color\":\"#C8D4E3\"},\"line\":{\"color\":\"white\"}},\"type\":\"table\"}],\"barpolar\":[{\"marker\":{\"line\":{\"color\":\"#E5ECF6\",\"width\":0.5},\"pattern\":{\"fillmode\":\"overlay\",\"size\":10,\"solidity\":0.2}},\"type\":\"barpolar\"}],\"pie\":[{\"automargin\":true,\"type\":\"pie\"}]},\"layout\":{\"autotypenumbers\":\"strict\",\"colorway\":[\"#636efa\",\"#EF553B\",\"#00cc96\",\"#ab63fa\",\"#FFA15A\",\"#19d3f3\",\"#FF6692\",\"#B6E880\",\"#FF97FF\",\"#FECB52\"],\"font\":{\"color\":\"#2a3f5f\"},\"hovermode\":\"closest\",\"hoverlabel\":{\"align\":\"left\"},\"paper_bgcolor\":\"white\",\"plot_bgcolor\":\"#E5ECF6\",\"polar\":{\"bgcolor\":\"#E5ECF6\",\"angularaxis\":{\"gridcolor\":\"white\",\"linecolor\":\"white\",\"ticks\":\"\"},\"radialaxis\":{\"gridcolor\":\"white\",\"linecolor\":\"white\",\"ticks\":\"\"}},\"ternary\":{\"bgcolor\":\"#E5ECF6\",\"aaxis\":{\"gridcolor\":\"white\",\"linecolor\":\"white\",\"ticks\":\"\"},\"baxis\":{\"gridcolor\":\"white\",\"linecolor\":\"white\",\"ticks\":\"\"},\"caxis\":{\"gridcolor\":\"white\",\"linecolor\":\"white\",\"ticks\":\"\"}},\"coloraxis\":{\"colorbar\":{\"outlinewidth\":0,\"ticks\":\"\"}},\"colorscale\":{\"sequential\":[[0.0,\"#0d0887\"],[0.1111111111111111,\"#46039f\"],[0.2222222222222222,\"#7201a8\"],[0.3333333333333333,\"#9c179e\"],[0.4444444444444444,\"#bd3786\"],[0.5555555555555556,\"#d8576b\"],[0.6666666666666666,\"#ed7953\"],[0.7777777777777778,\"#fb9f3a\"],[0.8888888888888888,\"#fdca26\"],[1.0,\"#f0f921\"]],\"sequentialminus\":[[0.0,\"#0d0887\"],[0.1111111111111111,\"#46039f\"],[0.2222222222222222,\"#7201a8\"],[0.3333333333333333,\"#9c179e\"],[0.4444444444444444,\"#bd3786\"],[0.5555555555555556,\"#d8576b\"],[0.6666666666666666,\"#ed7953\"],[0.7777777777777778,\"#fb9f3a\"],[0.8888888888888888,\"#fdca26\"],[1.0,\"#f0f921\"]],\"diverging\":[[0,\"#8e0152\"],[0.1,\"#c51b7d\"],[0.2,\"#de77ae\"],[0.3,\"#f1b6da\"],[0.4,\"#fde0ef\"],[0.5,\"#f7f7f7\"],[0.6,\"#e6f5d0\"],[0.7,\"#b8e186\"],[0.8,\"#7fbc41\"],[0.9,\"#4d9221\"],[1,\"#276419\"]]},\"xaxis\":{\"gridcolor\":\"white\",\"linecolor\":\"white\",\"ticks\":\"\",\"title\":{\"standoff\":15},\"zerolinecolor\":\"white\",\"automargin\":true,\"zerolinewidth\":2},\"yaxis\":{\"gridcolor\":\"white\",\"linecolor\":\"white\",\"ticks\":\"\",\"title\":{\"standoff\":15},\"zerolinecolor\":\"white\",\"automargin\":true,\"zerolinewidth\":2},\"scene\":{\"xaxis\":{\"backgroundcolor\":\"#E5ECF6\",\"gridcolor\":\"white\",\"linecolor\":\"white\",\"showbackground\":true,\"ticks\":\"\",\"zerolinecolor\":\"white\",\"gridwidth\":2},\"yaxis\":{\"backgroundcolor\":\"#E5ECF6\",\"gridcolor\":\"white\",\"linecolor\":\"white\",\"showbackground\":true,\"ticks\":\"\",\"zerolinecolor\":\"white\",\"gridwidth\":2},\"zaxis\":{\"backgroundcolor\":\"#E5ECF6\",\"gridcolor\":\"white\",\"linecolor\":\"white\",\"showbackground\":true,\"ticks\":\"\",\"zerolinecolor\":\"white\",\"gridwidth\":2}},\"shapedefaults\":{\"line\":{\"color\":\"#2a3f5f\"}},\"annotationdefaults\":{\"arrowcolor\":\"#2a3f5f\",\"arrowhead\":0,\"arrowwidth\":1},\"geo\":{\"bgcolor\":\"white\",\"landcolor\":\"#E5ECF6\",\"subunitcolor\":\"white\",\"showland\":true,\"showlakes\":true,\"lakecolor\":\"white\"},\"title\":{\"x\":0.05},\"mapbox\":{\"style\":\"light\"}}},\"xaxis\":{\"anchor\":\"y\",\"domain\":[0.0,1.0],\"title\":{\"text\":\"generation\"}},\"yaxis\":{\"anchor\":\"x\",\"domain\":[0.0,1.0],\"title\":{\"text\":\"fitness_value\"}},\"legend\":{\"tracegroupgap\":0},\"margin\":{\"t\":60}},                        {\"responsive\": true}                    ).then(function(){\n",
       "                            \n",
       "var gd = document.getElementById('94500cff-6275-4501-9825-7046321a97dd');\n",
       "var x = new MutationObserver(function (mutations, observer) {{\n",
       "        var display = window.getComputedStyle(gd).display;\n",
       "        if (!display || display === 'none') {{\n",
       "            console.log([gd, 'removed!']);\n",
       "            Plotly.purge(gd);\n",
       "            observer.disconnect();\n",
       "        }}\n",
       "}});\n",
       "\n",
       "// Listen for the removal of the full notebook cells\n",
       "var notebookContainer = gd.closest('#notebook-container');\n",
       "if (notebookContainer) {{\n",
       "    x.observe(notebookContainer, {childList: true});\n",
       "}}\n",
       "\n",
       "// Listen for the clearing of the current output cell\n",
       "var outputEl = gd.closest('.output');\n",
       "if (outputEl) {{\n",
       "    x.observe(outputEl, {childList: true});\n",
       "}}\n",
       "\n",
       "                        })                };                });            </script>        </div>"
      ]
     },
     "metadata": {},
     "output_type": "display_data"
    }
   ],
   "source": [
    "import plotly.express as px\n",
    "\n",
    "dfPlot = pd.DataFrame(fitness_array, columns=['fitness_value']).reset_index()\n",
    "\n",
    "dfPlot = dfPlot.rename(columns={'index':'generation'})\n",
    "\n",
    "px.line(dfPlot, 'generation', 'fitness_value')"
   ]
  },
  {
   "cell_type": "code",
   "execution_count": 65,
   "id": "6c79a626",
   "metadata": {
    "scrolled": true
   },
   "outputs": [],
   "source": [
    "# initial_pop\n",
    "\n",
    "distances_first_generation = calculate_distances(pop_array=initial_pop, city_location = cities)\n",
    "\n",
    "fitness_first_generation = calculate_fitness(distance_array=distances_first_generation)\n",
    "\n",
    "best_half_first_generation = select_best_half(initial_pop, fitness_first_generation)\n",
    "\n",
    "fitness_first_generation[0]\n",
    "\n",
    "route_initial = best_half_first_generation[0]"
   ]
  },
  {
   "cell_type": "code",
   "execution_count": 66,
   "id": "d19a6d71",
   "metadata": {
    "scrolled": true
   },
   "outputs": [],
   "source": [
    "# var_gen\n",
    "\n",
    "distances_last_generation = calculate_distances(pop_array=var_gen, city_location = cities)\n",
    "\n",
    "fitness_last_generation = calculate_fitness(distance_array=distances_last_generation)\n",
    "\n",
    "best_half_last_generation = select_best_half(var_gen, fitness_last_generation)\n",
    "\n",
    "fitness_last_generation[0]\n",
    "\n",
    "route_last = best_half_last_generation[0]"
   ]
  },
  {
   "cell_type": "code",
   "execution_count": 67,
   "id": "360e6530",
   "metadata": {},
   "outputs": [],
   "source": [
    "counter = 0\n",
    "for route_id in route_initial:\n",
    "    route_initial[counter] = cities[route_id]\n",
    "    counter = counter + 1\n",
    "    \n",
    "counter = 0\n",
    "for route_id in route_last:\n",
    "    route_last[counter] = cities[route_id]\n",
    "    counter = counter + 1"
   ]
  },
  {
   "cell_type": "markdown",
   "id": "5ad86644",
   "metadata": {},
   "source": [
    " "
   ]
  },
  {
   "cell_type": "markdown",
   "id": "0996bbcf",
   "metadata": {},
   "source": [
    " "
   ]
  },
  {
   "cell_type": "markdown",
   "id": "c00df437",
   "metadata": {},
   "source": [
    " "
   ]
  },
  {
   "cell_type": "markdown",
   "id": "9357777d",
   "metadata": {},
   "source": [
    " "
   ]
  },
  {
   "cell_type": "markdown",
   "id": "63e52d5d",
   "metadata": {},
   "source": [
    " "
   ]
  },
  {
   "cell_type": "markdown",
   "id": "1d520d61",
   "metadata": {},
   "source": [
    " "
   ]
  },
  {
   "cell_type": "code",
   "execution_count": 68,
   "id": "ce37b7bc",
   "metadata": {},
   "outputs": [
    {
     "data": {
      "image/png": "[encoded data removed]",
      "text/plain": [
       "<Figure size 640x480 with 1 Axes>"
      ]
     },
     "metadata": {},
     "output_type": "display_data"
    }
   ],
   "source": [
    "import matplotlib.pyplot as plt\n",
    "\n",
    "def plot_coordinates(coordinates, gen=0):\n",
    "    \n",
    "    x = [coord[0] for coord in coordinates]\n",
    "    y = [coord[1] for coord in coordinates]    \n",
    "\n",
    "    plt.plot(x, y, marker='o', linestyle='-')\n",
    "    \n",
    "    # Adiciona rótulos aos eixos\n",
    "    plt.xlabel('Coordenada X da Cidade')\n",
    "    plt.ylabel('Coordenada Y da Cidade')\n",
    "\n",
    "    # Adiciona título ao gráfico\n",
    "    plt.title(f'Exemplo de Rota ({gen}ª Geração) para 15 cidades considerando uma distância entre elas variando aleat. até 350p ')\n",
    "\n",
    "    # Exibe o gráfico\n",
    "    plt.grid(False)\n",
    "    plt.show()\n",
    "    \n",
    "plot_coordinates(route_initial) "
   ]
  },
  {
   "cell_type": "markdown",
   "id": "957b67c8",
   "metadata": {},
   "source": [
    " "
   ]
  },
  {
   "cell_type": "code",
   "execution_count": 70,
   "id": "2c8426d7",
   "metadata": {},
   "outputs": [
    {
     "data": {
      "image/png": "[encoded data removed]",
      "text/plain": [
       "<Figure size 640x480 with 1 Axes>"
      ]
     },
     "metadata": {},
     "output_type": "display_data"
    },
    {
     "data": {
      "image/png": "[encoded data removed]",
      "text/plain": [
       "<Figure size 640x480 with 1 Axes>"
      ]
     },
     "metadata": {},
     "output_type": "display_data"
    },
    {
     "data": {
      "text/plain": [
       "(None, None)"
      ]
     },
     "execution_count": 70,
     "metadata": {},
     "output_type": "execute_result"
    }
   ],
   "source": [
    "plot_coordinates(route_initial, gen=1), plot_coordinates(route_last, gen=1000) "
   ]
  }
 ],
 "metadata": {
  "kernelspec": {
   "display_name": "Python 3 (ipykernel)",
   "language": "python",
   "name": "python3"
  },
  "language_info": {
   "codemirror_mode": {
    "name": "ipython",
    "version": 3
   },
   "file_extension": ".py",
   "mimetype": "text/x-python",
   "name": "python",
   "nbconvert_exporter": "python",
   "pygments_lexer": "ipython3",
   "version": "3.11.5"
  }
 },
 "nbformat": 4,
 "nbformat_minor": 5
}
